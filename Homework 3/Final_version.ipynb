{
  "cells": [
    {
      "cell_type": "code",
      "execution_count": 1,
      "metadata": {
        "colab": {
          "base_uri": "https://localhost:8080/",
          "height": 84,
          "referenced_widgets": [
            "6ddb4898a0394f88a65247532a8df910",
            "eddf2e95a73941739214f6c1ee88255d",
            "5947770961354ec39b0b9e90829bf624",
            "9f673a7915504c4fb9b86c9e192cc6d5",
            "cda241b2b7fd43daa8cb1e0b50a5ed32",
            "914ef604adcf4e4991deff453c7ae1ae",
            "ee800026c4094c50ac3ca74e22b70d86",
            "183cf1257dec4b2784c7e9a702b6194f",
            "068a39c231c64f9fb298897a3157af51",
            "3a27be8c4bb44b6e8f87223487279902",
            "de84019fe9794d3d890028d8a1bb7ba7"
          ]
        },
        "id": "ba6b4e54",
        "outputId": "73f0995a-c827-47a0-a903-92583a823936"
      },
      "outputs": [
        {
          "output_type": "stream",
          "name": "stdout",
          "text": [
            "Downloading and preparing dataset 11.06 MiB (download: 11.06 MiB, generated: 21.00 MiB, total: 32.06 MiB) to ~/tensorflow_datasets/mnist/3.0.1...\n"
          ]
        },
        {
          "output_type": "display_data",
          "data": {
            "text/plain": [
              "Dl Completed...:   0%|          | 0/4 [00:00<?, ? file/s]"
            ],
            "application/vnd.jupyter.widget-view+json": {
              "version_major": 2,
              "version_minor": 0,
              "model_id": "6ddb4898a0394f88a65247532a8df910"
            }
          },
          "metadata": {}
        },
        {
          "output_type": "stream",
          "name": "stdout",
          "text": [
            "Dataset mnist downloaded and prepared to ~/tensorflow_datasets/mnist/3.0.1. Subsequent calls will reuse this data.\n"
          ]
        }
      ],
      "source": [
        "import tensorflow_datasets as tfds\n",
        "import tensorflow as tf\n",
        "import numpy as np\n",
        "\n",
        "(train_ds, test_ds), ds_info = tfds.load('mnist', split =['train', 'test'], as_supervised = True, with_info = True)"
      ],
      "id": "ba6b4e54"
    },
    {
      "cell_type": "code",
      "execution_count": null,
      "metadata": {
        "colab": {
          "base_uri": "https://localhost:8080/",
          "height": 539
        },
        "id": "YVlkOoJCUgu2",
        "outputId": "091824d6-0647-4917-d302-7081f0380166"
      },
      "outputs": [
        {
          "name": "stdout",
          "output_type": "stream",
          "text": [
            "tfds.core.DatasetInfo(\n",
            "    name='mnist',\n",
            "    full_name='mnist/3.0.1',\n",
            "    description=\"\"\"\n",
            "    The MNIST database of handwritten digits.\n",
            "    \"\"\",\n",
            "    homepage='http://yann.lecun.com/exdb/mnist/',\n",
            "    data_path='~/tensorflow_datasets/mnist/3.0.1',\n",
            "    file_format=tfrecord,\n",
            "    download_size=11.06 MiB,\n",
            "    dataset_size=21.00 MiB,\n",
            "    features=FeaturesDict({\n",
            "        'image': Image(shape=(28, 28, 1), dtype=tf.uint8),\n",
            "        'label': ClassLabel(shape=(), dtype=tf.int64, num_classes=10),\n",
            "    }),\n",
            "    supervised_keys=('image', 'label'),\n",
            "    disable_shuffling=False,\n",
            "    splits={\n",
            "        'test': <SplitInfo num_examples=10000, num_shards=1>,\n",
            "        'train': <SplitInfo num_examples=60000, num_shards=1>,\n",
            "    },\n",
            "    citation=\"\"\"@article{lecun2010mnist,\n",
            "      title={MNIST handwritten digit database},\n",
            "      author={LeCun, Yann and Cortes, Corinna and Burges, CJ},\n",
            "      journal={ATT Labs [Online]. Available: http://yann.lecun.com/exdb/mnist},\n",
            "      volume={2},\n",
            "      year={2010}\n",
            "    }\"\"\",\n",
            ")\n"
          ]
        },
        {
          "data": {
            "application/vnd.google.colaboratory.intrinsic+json": {
              "type": "string"
            },
            "text/plain": [
              "'get range of pixels in image?'"
            ]
          },
          "execution_count": 13,
          "metadata": {},
          "output_type": "execute_result"
        }
      ],
      "source": [
        "#print(ds_info)\n",
        "#tfds.show_examples(train_ds,ds_info)\n",
        "#print(np.amax(train_ds))\n",
        "\n",
        "'get range of pixels in image?'"
      ],
      "id": "YVlkOoJCUgu2"
    },
    {
      "cell_type": "code",
      "execution_count": 2,
      "metadata": {
        "id": "EbZpywcLZQ2C"
      },
      "outputs": [],
      "source": [
        "def prepare_mnist_dataset(mnist):\n",
        "  # flatten images \n",
        "  mnist = mnist.map(lambda img, target: (tf.reshape(img, (-1,)), target))\n",
        "  # cast img type to float\n",
        "  mnist = mnist.map(lambda img, target: (tf.cast(img, tf.float32), target))\n",
        "  # normalize values\n",
        "  mnist = mnist.map(lambda img, target: ((img/128.)-1., target))\n",
        "  # onehot encoding\n",
        "  mnist = mnist.map(lambda img, target: (img, tf.one_hot(target, depth = 10)))\n",
        "  # cache progress in memory\n",
        "  mnist = mnist.cache()\n",
        "  # shuffle, batch, prefetch\n",
        "  mnist = mnist.shuffle(1000)\n",
        "  mnist = mnist.batch(128)\n",
        "  mnist = mnist.prefetch(20)\n",
        "\n",
        "  return mnist\n",
        "\n",
        "#train_dataset = train_ds.apply(prepare_mnist_dataset)\n",
        "#test_dataset = test_ds.apply(prepare_mnist_dataset)\n"
      ],
      "id": "EbZpywcLZQ2C"
    },
    {
      "cell_type": "code",
      "execution_count": 3,
      "metadata": {
        "id": "Tg9an3mYcbJg"
      },
      "outputs": [],
      "source": [
        "def prepare_mnist_dataset_short(mnist):\n",
        "  mnist = mnist.map(lambda img, target: ((tf.cast(tf.reshape(img, (-1,)), tf.float32)/128.)-1., tf.one_hot(target, depth=10))).cache().shuffle(1000).batch(32).prefetch(20)\n",
        "  return mnist\n",
        "train_dataset = train_ds.apply(prepare_mnist_dataset_short)\n",
        "test_dataset = test_ds.apply(prepare_mnist_dataset_short)"
      ],
      "id": "Tg9an3mYcbJg"
    },
    {
      "cell_type": "code",
      "execution_count": 13,
      "metadata": {
        "id": "WYRT6eFslHhR"
      },
      "outputs": [],
      "source": [
        "from tensorflow.keras.layers import Dense\n",
        "\n",
        "class MyModel(tf.keras.Model):\n",
        "\n",
        "  def __init__(self):\n",
        "    super(MyModel, self).__init__()\n",
        "    self.dense1 = tf.keras.layers.Dense(128, activation=tf.nn.relu)\n",
        "    self.dense2 = tf.keras.layers.Dense(128, activation=tf.nn.relu)\n",
        "\n",
        "    self.out = tf.keras.layers.Dense(10, activation= tf.nn.sigmoid) #tf.nn.softmax)\n",
        "\n",
        "  @tf.function\n",
        "  def call(self, inputs):\n",
        "    x = self.dense1(inputs)\n",
        "    x = self.dense2(x)\n",
        "    x = self.out(x)\n",
        "    return x"
      ],
      "id": "WYRT6eFslHhR"
    },
    {
      "cell_type": "code",
      "execution_count": 14,
      "metadata": {
        "id": "kqICgA_aD_rh"
      },
      "outputs": [],
      "source": [
        "def train_step(model, input, target, loss_function, optimizer):\n",
        "  with tf.GradientTape() as tape:\n",
        "    prediction = model(input)\n",
        "    loss = loss_function(target, prediction)\n",
        "  gradients = tape.gradient(loss, model.trainable_variables)\n",
        "  optimizer.apply_gradients(zip(gradients, model.trainable_variables))\n",
        "  return loss\n",
        "\n",
        "def test_step(model, test_data, loss_function):\n",
        "  test_accuracy_aggregator = []\n",
        "  test_loss_aggregator = []\n",
        "\n",
        "  for (input, target) in test_data:\n",
        "    prediction = model(input)\n",
        "    sample_test_loss = loss_function(target, prediction)\n",
        "    sample_test_accuracy = np.mean(np.argmax(target, axis = 1) == np.argmax(prediction, axis=1))\n",
        "    test_loss_aggregator.append(sample_test_loss.numpy())\n",
        "    test_accuracy_aggregator.append(np.mean(sample_test_accuracy))\n",
        "\n",
        "  test_loss = tf.reduce_mean(test_loss_aggregator)\n",
        "  test_accuracy = tf.reduce_mean(test_accuracy_aggregator)\n",
        "\n",
        "  return test_loss, test_accuracy"
      ],
      "id": "kqICgA_aD_rh"
    },
    {
      "cell_type": "code",
      "execution_count": 12,
      "metadata": {
        "colab": {
          "base_uri": "https://localhost:8080/"
        },
        "id": "Xw_3bzAcL7mT",
        "outputId": "e206c319-d5ed-4914-cee5-01a4cb856a76"
      },
      "outputs": [
        {
          "output_type": "stream",
          "name": "stdout",
          "text": [
            "Epoch: 0 starting with accuracy 0.08117012779552715\n",
            "Epoch: 1 starting with accuracy 0.9358027156549521\n",
            "Epoch: 2 starting with accuracy 0.9499800319488818\n",
            "Epoch: 3 starting with accuracy 0.9543730031948882\n",
            "Epoch: 4 starting with accuracy 0.9550718849840255\n",
            "Epoch: 5 starting with accuracy 0.954173322683706\n",
            "Epoch: 6 starting with accuracy 0.9553714057507987\n",
            "Epoch: 7 starting with accuracy 0.9580670926517572\n",
            "Epoch: 8 starting with accuracy 0.9661541533546326\n",
            "Epoch: 9 starting with accuracy 0.9621605431309904\n"
          ]
        }
      ],
      "source": [
        "num_epochs = 10\n",
        "learning_rate = 0.01\n",
        "\n",
        "# Initialize the model\n",
        "model = MyModel()\n",
        "cross_entropy_loss = tf.keras.losses.CategoricalHinge()#CategoricalCrossentropy()\n",
        "optimizer = tf.keras.optimizers.Adam()#SGD(learning_rate, momentum = 0.03)\n",
        "\n",
        "# visualization lists\n",
        "train_losses = []\n",
        "test_losses = []\n",
        "test_accuracies = []\n",
        "\n",
        "# testing on test data before begin\n",
        "test_loss, test_accuracy = test_step(model, test_dataset, cross_entropy_loss)\n",
        "test_losses.append(test_loss)\n",
        "test_accuracies.append(test_accuracy)\n",
        "\n",
        "# testing on test data before begin\n",
        "train_loss, _ = test_step(model, train_dataset, cross_entropy_loss)\n",
        "train_losses.append(test_loss)\n",
        "\n",
        "# train for epochs\n",
        "for epoch in range(num_epochs):\n",
        "  # why here test_accuracies[-1]\n",
        "  print(f'Epoch: {str(epoch)} starting with accuracy {test_accuracies[-1]}')  \n",
        "\n",
        "  epoch_loss_agg = []\n",
        "  for input, target in train_dataset:\n",
        "    train_loss = train_step(model, input, target, cross_entropy_loss, optimizer)\n",
        "    epoch_loss_agg.append(train_loss)\n",
        "\n",
        "  train_losses.append(tf.reduce_mean(epoch_loss_agg))\n",
        "\n",
        "  test_loss, test_accuracy = test_step(model, test_dataset, cross_entropy_loss)\n",
        "  test_losses.append(test_loss)\n",
        "  test_accuracies.append(test_accuracy)\n"
      ],
      "id": "Xw_3bzAcL7mT"
    },
    {
      "cell_type": "code",
      "execution_count": 15,
      "metadata": {
        "colab": {
          "base_uri": "https://localhost:8080/",
          "height": 312
        },
        "id": "bSb9-DDkflgg",
        "outputId": "cd32f1ec-babb-4045-cec4-675aa64365bf"
      },
      "outputs": [
        {
          "output_type": "stream",
          "name": "stdout",
          "text": [
            "final training loss: 0.06617897748947144  final test loss: 0.07109115272760391    final test accuracy: 0.9656549520766773\n"
          ]
        },
        {
          "output_type": "display_data",
          "data": {
            "text/plain": [
              "<Figure size 432x288 with 1 Axes>"
            ],
            "image/png": "[encoded data removed]"
          },
          "metadata": {
            "needs_background": "light"
          }
        }
      ],
      "source": [
        "import matplotlib.pyplot as plt\n",
        "\n",
        "def plot(train_losses, test_losses, test_accuracies):\n",
        "  line1, = plt.plot(train_losses, 'b-', label='training loss')\n",
        "  line2, = plt.plot(test_losses, 'r-', label='test loss')\n",
        "  line3, = plt.plot(test_accuracies, 'g-', label='test accuracies')\n",
        "\n",
        "  plt.title('Network Performance')\n",
        "  plt.xlabel('epochs')\n",
        "  plt.legend(handles=[line1,line2,line3])\n",
        "  plt.show\n",
        "\n",
        "plot(train_losses, test_losses, test_accuracies)\n",
        "print(f'final training loss: {train_losses[-1]}  final test loss: {test_losses[-1]}    final test accuracy: {test_accuracies[-1]}')"
      ],
      "id": "bSb9-DDkflgg"
    },
    {
      "cell_type": "markdown",
      "source": [
        "Throughout training we kept the epochs at 10 as increasing them would have lead to more waiting time.\n",
        "When using the SGD optimizer we found that a learning rate of 0,05 outperformed rates of 0.1, 0.01 and 0.001. And 2 hidden layers of 512 units outperformed 3 layers of 256 units. We also tried out several different activation functions and in this case the ReLU outperformed the sigmoid aswell as the tanh. \n",
        "As this is a categorical classifaction task we tried the two different methods Categorical crossentropy and Categorical Hinge, in this case Categorical crossentropy worked better.\n",
        "\n",
        "In order to create a relatively \"cost efficient\" model we decided to increase the batch size to 128 (higher might have also increased accuracy) and decrease the unit amount of the two hidden layers to 128.\n",
        "As an optimizer we used Adam, keeping all the defaults the same, as changing the learning rate seemed to lead to drastically worse performance.\n",
        "This model lead to a final test accuracy: 0.965 which is comparable to the best final test accuracy from previous models of max:  0.979."
      ],
      "metadata": {
        "id": "nVuCCpgvMnUS"
      },
      "id": "nVuCCpgvMnUS"
    }
  ],
  "metadata": {
    "accelerator": "GPU",
    "colab": {
      "provenance": []
    },
    "gpuClass": "standard",
    "kernelspec": {
      "display_name": "Python 3 (ipykernel)",
      "language": "python",
      "name": "python3"
    },
    "language_info": {
      "codemirror_mode": {
        "name": "ipython",
        "version": 3
      },
      "file_extension": ".py",
      "mimetype": "text/x-python",
      "name": "python",
      "nbconvert_exporter": "python",
      "pygments_lexer": "ipython3",
      "version": "3.9.12"
    },
    "widgets": {
      "application/vnd.jupyter.widget-state+json": {
        "6ddb4898a0394f88a65247532a8df910": {
          "model_module": "@jupyter-widgets/controls",
          "model_name": "HBoxModel",
          "model_module_version": "1.5.0",
          "state": {
            "_dom_classes": [],
            "_model_module": "@jupyter-widgets/controls",
            "_model_module_version": "1.5.0",
            "_model_name": "HBoxModel",
            "_view_count": null,
            "_view_module": "@jupyter-widgets/controls",
            "_view_module_version": "1.5.0",
            "_view_name": "HBoxView",
            "box_style": "",
            "children": [
              "IPY_MODEL_eddf2e95a73941739214f6c1ee88255d",
              "IPY_MODEL_5947770961354ec39b0b9e90829bf624",
              "IPY_MODEL_9f673a7915504c4fb9b86c9e192cc6d5"
            ],
            "layout": "IPY_MODEL_cda241b2b7fd43daa8cb1e0b50a5ed32"
          }
        },
        "eddf2e95a73941739214f6c1ee88255d": {
          "model_module": "@jupyter-widgets/controls",
          "model_name": "HTMLModel",
          "model_module_version": "1.5.0",
          "state": {
            "_dom_classes": [],
            "_model_module": "@jupyter-widgets/controls",
            "_model_module_version": "1.5.0",
            "_model_name": "HTMLModel",
            "_view_count": null,
            "_view_module": "@jupyter-widgets/controls",
            "_view_module_version": "1.5.0",
            "_view_name": "HTMLView",
            "description": "",
            "description_tooltip": null,
            "layout": "IPY_MODEL_914ef604adcf4e4991deff453c7ae1ae",
            "placeholder": "​",
            "style": "IPY_MODEL_ee800026c4094c50ac3ca74e22b70d86",
            "value": "Dl Completed...: 100%"
          }
        },
        "5947770961354ec39b0b9e90829bf624": {
          "model_module": "@jupyter-widgets/controls",
          "model_name": "FloatProgressModel",
          "model_module_version": "1.5.0",
          "state": {
            "_dom_classes": [],
            "_model_module": "@jupyter-widgets/controls",
            "_model_module_version": "1.5.0",
            "_model_name": "FloatProgressModel",
            "_view_count": null,
            "_view_module": "@jupyter-widgets/controls",
            "_view_module_version": "1.5.0",
            "_view_name": "ProgressView",
            "bar_style": "success",
            "description": "",
            "description_tooltip": null,
            "layout": "IPY_MODEL_183cf1257dec4b2784c7e9a702b6194f",
            "max": 4,
            "min": 0,
            "orientation": "horizontal",
            "style": "IPY_MODEL_068a39c231c64f9fb298897a3157af51",
            "value": 4
          }
        },
        "9f673a7915504c4fb9b86c9e192cc6d5": {
          "model_module": "@jupyter-widgets/controls",
          "model_name": "HTMLModel",
          "model_module_version": "1.5.0",
          "state": {
            "_dom_classes": [],
            "_model_module": "@jupyter-widgets/controls",
            "_model_module_version": "1.5.0",
            "_model_name": "HTMLModel",
            "_view_count": null,
            "_view_module": "@jupyter-widgets/controls",
            "_view_module_version": "1.5.0",
            "_view_name": "HTMLView",
            "description": "",
            "description_tooltip": null,
            "layout": "IPY_MODEL_3a27be8c4bb44b6e8f87223487279902",
            "placeholder": "​",
            "style": "IPY_MODEL_de84019fe9794d3d890028d8a1bb7ba7",
            "value": " 4/4 [00:04&lt;00:00,  1.43s/ file]"
          }
        },
        "cda241b2b7fd43daa8cb1e0b50a5ed32": {
          "model_module": "@jupyter-widgets/base",
          "model_name": "LayoutModel",
          "model_module_version": "1.2.0",
          "state": {
            "_model_module": "@jupyter-widgets/base",
            "_model_module_version": "1.2.0",
            "_model_name": "LayoutModel",
            "_view_count": null,
            "_view_module": "@jupyter-widgets/base",
            "_view_module_version": "1.2.0",
            "_view_name": "LayoutView",
            "align_content": null,
            "align_items": null,
            "align_self": null,
            "border": null,
            "bottom": null,
            "display": null,
            "flex": null,
            "flex_flow": null,
            "grid_area": null,
            "grid_auto_columns": null,
            "grid_auto_flow": null,
            "grid_auto_rows": null,
            "grid_column": null,
            "grid_gap": null,
            "grid_row": null,
            "grid_template_areas": null,
            "grid_template_columns": null,
            "grid_template_rows": null,
            "height": null,
            "justify_content": null,
            "justify_items": null,
            "left": null,
            "margin": null,
            "max_height": null,
            "max_width": null,
            "min_height": null,
            "min_width": null,
            "object_fit": null,
            "object_position": null,
            "order": null,
            "overflow": null,
            "overflow_x": null,
            "overflow_y": null,
            "padding": null,
            "right": null,
            "top": null,
            "visibility": null,
            "width": null
          }
        },
        "914ef604adcf4e4991deff453c7ae1ae": {
          "model_module": "@jupyter-widgets/base",
          "model_name": "LayoutModel",
          "model_module_version": "1.2.0",
          "state": {
            "_model_module": "@jupyter-widgets/base",
            "_model_module_version": "1.2.0",
            "_model_name": "LayoutModel",
            "_view_count": null,
            "_view_module": "@jupyter-widgets/base",
            "_view_module_version": "1.2.0",
            "_view_name": "LayoutView",
            "align_content": null,
            "align_items": null,
            "align_self": null,
            "border": null,
            "bottom": null,
            "display": null,
            "flex": null,
            "flex_flow": null,
            "grid_area": null,
            "grid_auto_columns": null,
            "grid_auto_flow": null,
            "grid_auto_rows": null,
            "grid_column": null,
            "grid_gap": null,
            "grid_row": null,
            "grid_template_areas": null,
            "grid_template_columns": null,
            "grid_template_rows": null,
            "height": null,
            "justify_content": null,
            "justify_items": null,
            "left": null,
            "margin": null,
            "max_height": null,
            "max_width": null,
            "min_height": null,
            "min_width": null,
            "object_fit": null,
            "object_position": null,
            "order": null,
            "overflow": null,
            "overflow_x": null,
            "overflow_y": null,
            "padding": null,
            "right": null,
            "top": null,
            "visibility": null,
            "width": null
          }
        },
        "ee800026c4094c50ac3ca74e22b70d86": {
          "model_module": "@jupyter-widgets/controls",
          "model_name": "DescriptionStyleModel",
          "model_module_version": "1.5.0",
          "state": {
            "_model_module": "@jupyter-widgets/controls",
            "_model_module_version": "1.5.0",
            "_model_name": "DescriptionStyleModel",
            "_view_count": null,
            "_view_module": "@jupyter-widgets/base",
            "_view_module_version": "1.2.0",
            "_view_name": "StyleView",
            "description_width": ""
          }
        },
        "183cf1257dec4b2784c7e9a702b6194f": {
          "model_module": "@jupyter-widgets/base",
          "model_name": "LayoutModel",
          "model_module_version": "1.2.0",
          "state": {
            "_model_module": "@jupyter-widgets/base",
            "_model_module_version": "1.2.0",
            "_model_name": "LayoutModel",
            "_view_count": null,
            "_view_module": "@jupyter-widgets/base",
            "_view_module_version": "1.2.0",
            "_view_name": "LayoutView",
            "align_content": null,
            "align_items": null,
            "align_self": null,
            "border": null,
            "bottom": null,
            "display": null,
            "flex": null,
            "flex_flow": null,
            "grid_area": null,
            "grid_auto_columns": null,
            "grid_auto_flow": null,
            "grid_auto_rows": null,
            "grid_column": null,
            "grid_gap": null,
            "grid_row": null,
            "grid_template_areas": null,
            "grid_template_columns": null,
            "grid_template_rows": null,
            "height": null,
            "justify_content": null,
            "justify_items": null,
            "left": null,
            "margin": null,
            "max_height": null,
            "max_width": null,
            "min_height": null,
            "min_width": null,
            "object_fit": null,
            "object_position": null,
            "order": null,
            "overflow": null,
            "overflow_x": null,
            "overflow_y": null,
            "padding": null,
            "right": null,
            "top": null,
            "visibility": null,
            "width": null
          }
        },
        "068a39c231c64f9fb298897a3157af51": {
          "model_module": "@jupyter-widgets/controls",
          "model_name": "ProgressStyleModel",
          "model_module_version": "1.5.0",
          "state": {
            "_model_module": "@jupyter-widgets/controls",
            "_model_module_version": "1.5.0",
            "_model_name": "ProgressStyleModel",
            "_view_count": null,
            "_view_module": "@jupyter-widgets/base",
            "_view_module_version": "1.2.0",
            "_view_name": "StyleView",
            "bar_color": null,
            "description_width": ""
          }
        },
        "3a27be8c4bb44b6e8f87223487279902": {
          "model_module": "@jupyter-widgets/base",
          "model_name": "LayoutModel",
          "model_module_version": "1.2.0",
          "state": {
            "_model_module": "@jupyter-widgets/base",
            "_model_module_version": "1.2.0",
            "_model_name": "LayoutModel",
            "_view_count": null,
            "_view_module": "@jupyter-widgets/base",
            "_view_module_version": "1.2.0",
            "_view_name": "LayoutView",
            "align_content": null,
            "align_items": null,
            "align_self": null,
            "border": null,
            "bottom": null,
            "display": null,
            "flex": null,
            "flex_flow": null,
            "grid_area": null,
            "grid_auto_columns": null,
            "grid_auto_flow": null,
            "grid_auto_rows": null,
            "grid_column": null,
            "grid_gap": null,
            "grid_row": null,
            "grid_template_areas": null,
            "grid_template_columns": null,
            "grid_template_rows": null,
            "height": null,
            "justify_content": null,
            "justify_items": null,
            "left": null,
            "margin": null,
            "max_height": null,
            "max_width": null,
            "min_height": null,
            "min_width": null,
            "object_fit": null,
            "object_position": null,
            "order": null,
            "overflow": null,
            "overflow_x": null,
            "overflow_y": null,
            "padding": null,
            "right": null,
            "top": null,
            "visibility": null,
            "width": null
          }
        },
        "de84019fe9794d3d890028d8a1bb7ba7": {
          "model_module": "@jupyter-widgets/controls",
          "model_name": "DescriptionStyleModel",
          "model_module_version": "1.5.0",
          "state": {
            "_model_module": "@jupyter-widgets/controls",
            "_model_module_version": "1.5.0",
            "_model_name": "DescriptionStyleModel",
            "_view_count": null,
            "_view_module": "@jupyter-widgets/base",
            "_view_module_version": "1.2.0",
            "_view_name": "StyleView",
            "description_width": ""
          }
        }
      }
    }
  },
  "nbformat": 4,
  "nbformat_minor": 5
}