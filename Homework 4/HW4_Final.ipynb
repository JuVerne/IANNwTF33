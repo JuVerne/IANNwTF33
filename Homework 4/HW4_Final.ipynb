{
 "cells": [
  {
   "cell_type": "code",
   "execution_count": 41,
   "metadata": {},
   "outputs": [
    {
     "name": "stdout",
     "output_type": "stream",
     "text": [
      "The tensorboard extension is already loaded. To reload it, use:\n",
      "  %reload_ext tensorboard\n"
     ]
    }
   ],
   "source": [
    "import tensorflow as tf\n",
    "import tensorflow_datasets as tfds\n",
    "import datetime\n",
    "\n",
    "%load_ext tensorboard"
   ]
  },
  {
   "cell_type": "code",
   "execution_count": 42,
   "metadata": {},
   "outputs": [],
   "source": [
    "# get mnist from tensorflow_datasets\n",
    "mnist = tfds.load(\"mnist\", split =[\"train\",\"test\"], as_supervised=True)\n",
    "train_ds = mnist[0]\n",
    "val_ds = mnist[1]"
   ]
  },
  {
   "cell_type": "code",
   "execution_count": 43,
   "metadata": {},
   "outputs": [],
   "source": [
    "# write function to create the dataset that we want\n",
    "# \"condition\" expects of of two arguments: condition==0 being the comparison, and condition == 1 being the subtraction\n",
    "def preprocess(data, batch_size, condition):\n",
    "    \n",
    "    \n",
    "    # image should be float\n",
    "    data = data.map(lambda x, t: (tf.cast(x, float), t))\n",
    "    # image should be flattened\n",
    "    data = data.map(lambda x, t: (tf.reshape(x, (-1,)), t))\n",
    "    # image vector will here have values between 0 and 1\n",
    "    data = data.map(lambda x,t: ((x/128.)-1, t))\n",
    "    \n",
    "    \n",
    "    # we want to have two mnist images in each example\n",
    "    # this leads to a single example being ((x1,y1),(x2,y2))\n",
    "    zipped_ds = tf.data.Dataset.zip((data.shuffle(2000), \n",
    "                                     data.shuffle(2000)))\n",
    "    \n",
    "    if condition == 0:\n",
    "        # use maping to change the target\n",
    "        zipped_ds = zipped_ds.map(lambda x1, x2: (x1[0], x2[0], x1[1]+x2[1] >= 5))\n",
    "        # transform boolean target to int\n",
    "        zipped_ds = zipped_ds.map(lambda x1, x2, t: (x1,x2, tf.cast(t, tf.int32)))\n",
    "    else:\n",
    "        # use maping to change the target\n",
    "        zipped_ds = zipped_ds.map(lambda x1, x2: (x1[0], x2[0], x1[1]-x2[1]))\n",
    "        # transform target to float\n",
    "        zipped_ds = zipped_ds.map(lambda x1, x2, t: (x1,x2, tf.cast(t, tf.float32)))\n",
    "        \n",
    "    \n",
    "    # batch the dataset\n",
    "    zipped_ds = zipped_ds.batch(batch_size)\n",
    "    # prefetch\n",
    "    zipped_ds = zipped_ds.prefetch(tf.data.AUTOTUNE)\n",
    "    return zipped_ds"
   ]
  },
  {
   "cell_type": "code",
   "execution_count": 44,
   "metadata": {},
   "outputs": [],
   "source": [
    "class TwinMNISTModel(tf.keras.Model):\n",
    "\n",
    "    # 1. constructor\n",
    "    # \"condition\" expects of of two arguments: condition==0 being the comparison, and condition == 1 being the subtraction\n",
    "    # \"opt\" expects of of two arguments: opt==0 being the Adam optimizer, opt == 1 being the SGD optimizer, opt == 2 being RMSprop and opt == 3 being ADAGrad\n",
    "    def __init__(self, condition, opt):\n",
    "        # inherit functionality from parent class\n",
    "        super().__init__()\n",
    "\n",
    "        # metrics \n",
    "        if condition == 0:\n",
    "            self.metrics_list = [tf.keras.metrics.Mean(name=\"loss\"),\n",
    "                                tf.keras.metrics.BinaryAccuracy()]\n",
    "        else:\n",
    "            self.metrics_list = [tf.keras.metrics.Mean(name=\"loss\"),\n",
    "                                 tf.keras.metrics.RootMeanSquaredError()]\n",
    "        #optimizers\n",
    "        if opt == 0:\n",
    "            self.optimizer = tf.keras.optimizers.Adam()\n",
    "        elif opt == 1: \n",
    "            self.optimizer = tf.keras.optimizers.SGD(0.01, 0.03)\n",
    "        elif opt == 2: \n",
    "            self.optimizer = tf.keras.optimizers.RMSprop()\n",
    "        elif opt == 3: \n",
    "            self.optimizer = tf.keras.optimizers.Adagrad()\n",
    "        \n",
    "        #loss functions \n",
    "        if condition == 0:\n",
    "            self.loss_function = tf.keras.losses.BinaryCrossentropy()\n",
    "        else:\n",
    "            self.loss_function = tf.keras.losses.MeanSquaredError()\n",
    "            \n",
    "        # layers to encode the images (both layers used for both images)\n",
    "        self.dense1 = tf.keras.layers.Dense(128, activation=tf.nn.relu)\n",
    "        self.dense2 = tf.keras.layers.Dense(128, activation=tf.nn.relu)\n",
    "        \n",
    "        self.dense3 = tf.keras.layers.Dense(128, activation=tf.nn.relu)\n",
    "        \n",
    "        if condition == 0:\n",
    "            self.out_layer = tf.keras.layers.Dense(1,activation=tf.nn.sigmoid)\n",
    "        else:\n",
    "            self.out_layer = tf.keras.layers.Dense(1,activation=None)\n",
    "        \n",
    "    # 2. call method (forward computation)\n",
    "    def call(self, images, training=False):\n",
    "        img1, img2 = images\n",
    "        \n",
    "        img1_x = self.dense1(img1)\n",
    "        img1_x = self.dense2(img1_x)\n",
    "        \n",
    "        img2_x = self.dense1(img2)\n",
    "        img2_x = self.dense2(img2_x)\n",
    "        \n",
    "        combined_x = tf.concat([img1_x, img2_x ], axis=1)\n",
    "        combined_x = self.dense3(combined_x)\n",
    "        return self.out_layer(combined_x)\n",
    "\n",
    "    # 3. metrics property\n",
    "    @property\n",
    "    def metrics(self):\n",
    "        return self.metrics_list\n",
    "        # return a list with all metrics in the model\n",
    "\n",
    "    # 4. reset all metrics objects\n",
    "    def reset_metrics(self):\n",
    "        for metric in self.metrics:\n",
    "            metric.reset_states()\n",
    "\n",
    "    # 5. train step method\n",
    "    @tf.function\n",
    "    def train_step(self, data):\n",
    "        img1, img2, label = data\n",
    "        \n",
    "        with tf.GradientTape() as tape:\n",
    "            output = self((img1, img2), training=True)\n",
    "            loss = self.loss_function(label, output)\n",
    "            \n",
    "        gradients = tape.gradient(loss, self.trainable_variables)\n",
    "        \n",
    "        self.optimizer.apply_gradients(zip(gradients, self.trainable_variables))\n",
    "        \n",
    "        # update the state of the metrics\n",
    "        self.metrics[0].update_state(loss)\n",
    "        for metric in self.metrics[1:]:\n",
    "            metric.update_state(label, output)\n",
    "            \n",
    "        \n",
    "        # return a dictionary with metric names as keys and metric results as values\n",
    "        return {m.name : m.result() for m in self.metrics}\n",
    "\n",
    "    # 6. test_step method\n",
    "    @tf.function\n",
    "    def test_step(self, data):\n",
    "        img1, img2, label = data\n",
    "        # same as train step (without parameter updates)\n",
    "        output = self((img1, img2), training=False)\n",
    "        loss = self.loss_function(label, output)\n",
    "        self.metrics[0].update_state(loss)\n",
    "        for metric in self.metrics[1:]:\n",
    "            metric.update_state(label, output)\n",
    "        \n",
    "        return {m.name : m.result() for m in self.metrics}"
   ]
  },
  {
   "cell_type": "code",
   "execution_count": 45,
   "metadata": {},
   "outputs": [],
   "source": [
    "def create_summary_writers(config_name):\n",
    "    \n",
    "    # Define where to save the logs\n",
    "    # along with this, you may want to save a config file with the same name so you know what the hyperparameters were used\n",
    "    # alternatively make a copy of the code that is used for later reference\n",
    "    \n",
    "    current_time = datetime.datetime.now().strftime(\"%Y%m%d-%H%M%S\")\n",
    "\n",
    "    train_log_path = f\"logs/{config_name}/{current_time}/train\"\n",
    "    val_log_path = f\"logs/{config_name}/{current_time}/val\"\n",
    "\n",
    "    # log writer for training metrics\n",
    "    train_summary_writer = tf.summary.create_file_writer(train_log_path)\n",
    "\n",
    "    # log writer for validation metrics\n",
    "    val_summary_writer = tf.summary.create_file_writer(val_log_path)\n",
    "    \n",
    "    return train_summary_writer, val_summary_writer\n"
   ]
  },
  {
   "cell_type": "code",
   "execution_count": 46,
   "metadata": {},
   "outputs": [],
   "source": [
    "import tqdm\n",
    "def training_loop(model, train_ds, val_ds, start_epoch,\n",
    "                  epochs, train_summary_writer, \n",
    "                  val_summary_writer, save_path):\n",
    "\n",
    "    # 1. iterate over epochs\n",
    "    for e in range(start_epoch, epochs):\n",
    "\n",
    "        # 2. train steps on all batches in the training data\n",
    "        for data in tqdm.tqdm(train_ds, position=0, leave=True):\n",
    "            metrics = model.train_step(data)\n",
    "\n",
    "        # 3. log and print training metrics\n",
    "\n",
    "        with train_summary_writer.as_default():\n",
    "            # for scalar metrics:\n",
    "            for metric in model.metrics:\n",
    "                    tf.summary.scalar(f\"{metric.name}\", metric.result(), step=e)\n",
    "            # alternatively, log metrics individually (allows for non-scalar metrics such as tf.keras.metrics.MeanTensor)\n",
    "            # e.g. tf.summary.image(name=\"mean_activation_layer3\", data = metrics[\"mean_activation_layer3\"],step=e)\n",
    "        \n",
    "        #print the metrics\n",
    "        print([f\"{key}: {value.numpy()}\" for (key, value) in metrics.items()])\n",
    "        \n",
    "        # 4. reset metric objects\n",
    "        model.reset_metrics()\n",
    "\n",
    "\n",
    "        # 5. evaluate on validation data\n",
    "        for data in val_ds:\n",
    "            metrics = model.test_step(data)\n",
    "        \n",
    "\n",
    "        # 6. log validation metrics\n",
    "\n",
    "        with val_summary_writer.as_default():\n",
    "            # for scalar metrics:\n",
    "            for metric in model.metrics:\n",
    "                    tf.summary.scalar(f\"{metric.name}\", metric.result(), step=e)\n",
    "            # alternatively, log metrics individually (allows for non-scalar metrics such as tf.keras.metrics.MeanTensor)\n",
    "            # e.g. tf.summary.image(name=\"mean_activation_layer3\", data = metrics[\"mean_activation_layer3\"],step=e)\n",
    "            \n",
    "        print([f\"val_{key}: {value.numpy()}\" for (key, value) in metrics.items()])\n",
    "        # 7. reset metric objects\n",
    "        model.reset_metrics()\n",
    "        \n",
    "    # 8. save model weights if save_path is given\n",
    "    if save_path:\n",
    "        model.save_weights(save_path)"
   ]
  },
  {
   "cell_type": "code",
   "execution_count": 47,
   "metadata": {},
   "outputs": [
    {
     "data": {
      "text/plain": [
       "Reusing TensorBoard on port 8087 (pid 12992), started 0:38:51 ago. (Use '!kill 12992' to kill it.)"
      ]
     },
     "metadata": {},
     "output_type": "display_data"
    },
    {
     "data": {
      "text/html": [
       "\n",
       "      <iframe id=\"tensorboard-frame-7b080e041a48e939\" width=\"100%\" height=\"800\" frameborder=\"0\">\n",
       "      </iframe>\n",
       "      <script>\n",
       "        (function() {\n",
       "          const frame = document.getElementById(\"tensorboard-frame-7b080e041a48e939\");\n",
       "          const url = new URL(\"/\", window.location);\n",
       "          const port = 8087;\n",
       "          if (port) {\n",
       "            url.port = port;\n",
       "          }\n",
       "          frame.src = url;\n",
       "        })();\n",
       "      </script>\n",
       "    "
      ],
      "text/plain": [
       "<IPython.core.display.HTML object>"
      ]
     },
     "metadata": {},
     "output_type": "display_data"
    }
   ],
   "source": [
    "# open the tensorboard logs\n",
    "%tensorboard --logdir logs/ --host localhost --port 8087"
   ]
  },
  {
   "cell_type": "code",
   "execution_count": 48,
   "metadata": {},
   "outputs": [
    {
     "name": "stderr",
     "output_type": "stream",
     "text": [
      "100%|██████████████████████████████████████████████████████████████████████████████| 1875/1875 [00:37<00:00, 49.61it/s]\n"
     ]
    },
    {
     "name": "stdout",
     "output_type": "stream",
     "text": [
      "['loss: 0.15105974674224854', 'binary_accuracy: 0.9400333166122437']\n",
      "['val_loss: 0.09854016453027725', 'val_binary_accuracy: 0.9653000235557556']\n"
     ]
    },
    {
     "name": "stderr",
     "output_type": "stream",
     "text": [
      "100%|██████████████████████████████████████████████████████████████████████████████| 1875/1875 [00:33<00:00, 55.83it/s]\n"
     ]
    },
    {
     "name": "stdout",
     "output_type": "stream",
     "text": [
      "['loss: 0.08515463769435883', 'binary_accuracy: 0.9694333076477051']\n",
      "['val_loss: 0.07681399583816528', 'val_binary_accuracy: 0.9733999967575073']\n"
     ]
    },
    {
     "name": "stderr",
     "output_type": "stream",
     "text": [
      "100%|██████████████████████████████████████████████████████████████████████████████| 1875/1875 [00:30<00:00, 61.96it/s]\n"
     ]
    },
    {
     "name": "stdout",
     "output_type": "stream",
     "text": [
      "['loss: 0.06987934559583664', 'binary_accuracy: 0.9758999943733215']\n",
      "['val_loss: 0.06136864796280861', 'val_binary_accuracy: 0.9797000288963318']\n"
     ]
    },
    {
     "name": "stderr",
     "output_type": "stream",
     "text": [
      "100%|██████████████████████████████████████████████████████████████████████████████| 1875/1875 [00:30<00:00, 62.48it/s]\n"
     ]
    },
    {
     "name": "stdout",
     "output_type": "stream",
     "text": [
      "['loss: 0.058697447180747986', 'binary_accuracy: 0.9790999889373779']\n",
      "['val_loss: 0.05549951270222664', 'val_binary_accuracy: 0.9812999963760376']\n"
     ]
    },
    {
     "name": "stderr",
     "output_type": "stream",
     "text": [
      "100%|██████████████████████████████████████████████████████████████████████████████| 1875/1875 [00:33<00:00, 56.01it/s]\n"
     ]
    },
    {
     "name": "stdout",
     "output_type": "stream",
     "text": [
      "['loss: 0.05159265175461769', 'binary_accuracy: 0.9822166562080383']\n",
      "['val_loss: 0.05001470819115639', 'val_binary_accuracy: 0.983299970626831']\n"
     ]
    },
    {
     "name": "stderr",
     "output_type": "stream",
     "text": [
      "100%|██████████████████████████████████████████████████████████████████████████████| 1875/1875 [00:33<00:00, 56.62it/s]\n"
     ]
    },
    {
     "name": "stdout",
     "output_type": "stream",
     "text": [
      "['loss: 0.04761778563261032', 'binary_accuracy: 0.9832833409309387']\n",
      "['val_loss: 0.06132951378822327', 'val_binary_accuracy: 0.9796000123023987']\n"
     ]
    },
    {
     "name": "stderr",
     "output_type": "stream",
     "text": [
      "100%|██████████████████████████████████████████████████████████████████████████████| 1875/1875 [00:34<00:00, 54.97it/s]\n"
     ]
    },
    {
     "name": "stdout",
     "output_type": "stream",
     "text": [
      "['loss: 0.04384526237845421', 'binary_accuracy: 0.9850666522979736']\n",
      "['val_loss: 0.05177909880876541', 'val_binary_accuracy: 0.984499990940094']\n"
     ]
    },
    {
     "name": "stderr",
     "output_type": "stream",
     "text": [
      "100%|██████████████████████████████████████████████████████████████████████████████| 1875/1875 [00:32<00:00, 58.17it/s]\n"
     ]
    },
    {
     "name": "stdout",
     "output_type": "stream",
     "text": [
      "['loss: 0.04199792444705963', 'binary_accuracy: 0.9855166673660278']\n",
      "['val_loss: 0.05138665810227394', 'val_binary_accuracy: 0.9829999804496765']\n"
     ]
    },
    {
     "name": "stderr",
     "output_type": "stream",
     "text": [
      "100%|██████████████████████████████████████████████████████████████████████████████| 1875/1875 [00:28<00:00, 64.77it/s]\n"
     ]
    },
    {
     "name": "stdout",
     "output_type": "stream",
     "text": [
      "['loss: 0.04169772192835808', 'binary_accuracy: 0.9855666756629944']\n",
      "['val_loss: 0.06114626303315163', 'val_binary_accuracy: 0.9804999828338623']\n"
     ]
    },
    {
     "name": "stderr",
     "output_type": "stream",
     "text": [
      "100%|██████████████████████████████████████████████████████████████████████████████| 1875/1875 [00:31<00:00, 59.28it/s]\n"
     ]
    },
    {
     "name": "stdout",
     "output_type": "stream",
     "text": [
      "['loss: 0.03679279237985611', 'binary_accuracy: 0.9872166514396667']\n",
      "['val_loss: 0.05256982520222664', 'val_binary_accuracy: 0.9839000105857849']\n"
     ]
    },
    {
     "name": "stderr",
     "output_type": "stream",
     "text": [
      "100%|██████████████████████████████████████████████████████████████████████████████| 1875/1875 [00:31<00:00, 59.11it/s]\n"
     ]
    },
    {
     "name": "stdout",
     "output_type": "stream",
     "text": [
      "['loss: 0.2495661824941635', 'binary_accuracy: 0.9003499746322632']\n",
      "['val_loss: 0.1893942505121231', 'val_binary_accuracy: 0.9229999780654907']\n"
     ]
    },
    {
     "name": "stderr",
     "output_type": "stream",
     "text": [
      "100%|██████████████████████████████████████████████████████████████████████████████| 1875/1875 [00:32<00:00, 58.08it/s]\n"
     ]
    },
    {
     "name": "stdout",
     "output_type": "stream",
     "text": [
      "['loss: 0.1708274632692337', 'binary_accuracy: 0.9322666525840759']\n",
      "['val_loss: 0.14221331477165222', 'val_binary_accuracy: 0.9474999904632568']\n"
     ]
    },
    {
     "name": "stderr",
     "output_type": "stream",
     "text": [
      "100%|██████████████████████████████████████████████████████████████████████████████| 1875/1875 [00:29<00:00, 63.60it/s]\n"
     ]
    },
    {
     "name": "stdout",
     "output_type": "stream",
     "text": [
      "['loss: 0.12937933206558228', 'binary_accuracy: 0.9504666924476624']\n",
      "['val_loss: 0.11074098944664001', 'val_binary_accuracy: 0.9596999883651733']\n"
     ]
    },
    {
     "name": "stderr",
     "output_type": "stream",
     "text": [
      "100%|██████████████████████████████████████████████████████████████████████████████| 1875/1875 [00:30<00:00, 61.29it/s]\n"
     ]
    },
    {
     "name": "stdout",
     "output_type": "stream",
     "text": [
      "['loss: 0.10858304798603058', 'binary_accuracy: 0.9605166912078857']\n",
      "['val_loss: 0.10890229791402817', 'val_binary_accuracy: 0.9605000019073486']\n"
     ]
    },
    {
     "name": "stderr",
     "output_type": "stream",
     "text": [
      "100%|██████████████████████████████████████████████████████████████████████████████| 1875/1875 [00:33<00:00, 56.58it/s]\n"
     ]
    },
    {
     "name": "stdout",
     "output_type": "stream",
     "text": [
      "['loss: 0.0956466943025589', 'binary_accuracy: 0.9665833115577698']\n",
      "['val_loss: 0.09290154278278351', 'val_binary_accuracy: 0.9653000235557556']\n"
     ]
    },
    {
     "name": "stderr",
     "output_type": "stream",
     "text": [
      "100%|██████████████████████████████████████████████████████████████████████████████| 1875/1875 [00:28<00:00, 64.83it/s]\n"
     ]
    },
    {
     "name": "stdout",
     "output_type": "stream",
     "text": [
      "['loss: 0.08230137825012207', 'binary_accuracy: 0.9702666401863098']\n",
      "['val_loss: 0.07351826876401901', 'val_binary_accuracy: 0.974399983882904']\n"
     ]
    },
    {
     "name": "stderr",
     "output_type": "stream",
     "text": [
      "100%|██████████████████████████████████████████████████████████████████████████████| 1875/1875 [00:28<00:00, 65.53it/s]\n"
     ]
    },
    {
     "name": "stdout",
     "output_type": "stream",
     "text": [
      "['loss: 0.07488652318716049', 'binary_accuracy: 0.9736166596412659']\n",
      "['val_loss: 0.07644029706716537', 'val_binary_accuracy: 0.9732999801635742']\n"
     ]
    },
    {
     "name": "stderr",
     "output_type": "stream",
     "text": [
      "100%|██████████████████████████████████████████████████████████████████████████████| 1875/1875 [00:36<00:00, 52.08it/s]\n"
     ]
    },
    {
     "name": "stdout",
     "output_type": "stream",
     "text": [
      "['loss: 0.0673801600933075', 'binary_accuracy: 0.9761166572570801']\n",
      "['val_loss: 0.07051470130681992', 'val_binary_accuracy: 0.9749000072479248']\n"
     ]
    },
    {
     "name": "stderr",
     "output_type": "stream",
     "text": [
      "100%|██████████████████████████████████████████████████████████████████████████████| 1875/1875 [00:33<00:00, 56.22it/s]\n"
     ]
    },
    {
     "name": "stdout",
     "output_type": "stream",
     "text": [
      "['loss: 0.0625852420926094', 'binary_accuracy: 0.9787499904632568']\n",
      "['val_loss: 0.0615217424929142', 'val_binary_accuracy: 0.9786999821662903']\n"
     ]
    },
    {
     "name": "stderr",
     "output_type": "stream",
     "text": [
      "100%|██████████████████████████████████████████████████████████████████████████████| 1875/1875 [00:33<00:00, 55.39it/s]\n"
     ]
    },
    {
     "name": "stdout",
     "output_type": "stream",
     "text": [
      "['loss: 0.056462015956640244', 'binary_accuracy: 0.980733335018158']\n",
      "['val_loss: 0.05876893177628517', 'val_binary_accuracy: 0.9787999987602234']\n"
     ]
    },
    {
     "name": "stderr",
     "output_type": "stream",
     "text": [
      "100%|██████████████████████████████████████████████████████████████████████████████| 1875/1875 [00:36<00:00, 50.71it/s]\n"
     ]
    },
    {
     "name": "stdout",
     "output_type": "stream",
     "text": [
      "['loss: 0.1604619026184082', 'binary_accuracy: 0.9383999705314636']\n",
      "['val_loss: 0.08950544893741608', 'val_binary_accuracy: 0.9674000144004822']\n"
     ]
    },
    {
     "name": "stderr",
     "output_type": "stream",
     "text": [
      "100%|██████████████████████████████████████████████████████████████████████████████| 1875/1875 [00:37<00:00, 49.45it/s]\n"
     ]
    },
    {
     "name": "stdout",
     "output_type": "stream",
     "text": [
      "['loss: 0.10879118740558624', 'binary_accuracy: 0.9647166728973389']\n",
      "['val_loss: 0.11101808398962021', 'val_binary_accuracy: 0.9679999947547913']\n"
     ]
    },
    {
     "name": "stderr",
     "output_type": "stream",
     "text": [
      "100%|██████████████████████████████████████████████████████████████████████████████| 1875/1875 [00:35<00:00, 53.57it/s]\n"
     ]
    },
    {
     "name": "stdout",
     "output_type": "stream",
     "text": [
      "['loss: 0.1028788685798645', 'binary_accuracy: 0.9683833122253418']\n",
      "['val_loss: 0.10165619105100632', 'val_binary_accuracy: 0.9652000069618225']\n"
     ]
    },
    {
     "name": "stderr",
     "output_type": "stream",
     "text": [
      "100%|██████████████████████████████████████████████████████████████████████████████| 1875/1875 [00:38<00:00, 49.06it/s]\n"
     ]
    },
    {
     "name": "stdout",
     "output_type": "stream",
     "text": [
      "['loss: 0.10520676523447037', 'binary_accuracy: 0.9685999751091003']\n",
      "['val_loss: 0.08670560270547867', 'val_binary_accuracy: 0.9739999771118164']\n"
     ]
    },
    {
     "name": "stderr",
     "output_type": "stream",
     "text": [
      "100%|██████████████████████████████████████████████████████████████████████████████| 1875/1875 [00:32<00:00, 57.91it/s]\n"
     ]
    },
    {
     "name": "stdout",
     "output_type": "stream",
     "text": [
      "['loss: 0.1086566299200058', 'binary_accuracy: 0.9690166711807251']\n",
      "['val_loss: 0.09450317174196243', 'val_binary_accuracy: 0.9754999876022339']\n"
     ]
    },
    {
     "name": "stderr",
     "output_type": "stream",
     "text": [
      "100%|██████████████████████████████████████████████████████████████████████████████| 1875/1875 [00:32<00:00, 57.46it/s]\n"
     ]
    },
    {
     "name": "stdout",
     "output_type": "stream",
     "text": [
      "['loss: 0.1027074083685875', 'binary_accuracy: 0.9705666899681091']\n",
      "['val_loss: 0.10026872158050537', 'val_binary_accuracy: 0.972599983215332']\n"
     ]
    },
    {
     "name": "stderr",
     "output_type": "stream",
     "text": [
      "100%|██████████████████████████████████████████████████████████████████████████████| 1875/1875 [00:32<00:00, 56.94it/s]\n"
     ]
    },
    {
     "name": "stdout",
     "output_type": "stream",
     "text": [
      "['loss: 0.10246839374303818', 'binary_accuracy: 0.9713000059127808']\n",
      "['val_loss: 0.09545672684907913', 'val_binary_accuracy: 0.9690999984741211']\n"
     ]
    },
    {
     "name": "stderr",
     "output_type": "stream",
     "text": [
      "100%|██████████████████████████████████████████████████████████████████████████████| 1875/1875 [00:22<00:00, 82.84it/s]\n"
     ]
    },
    {
     "name": "stdout",
     "output_type": "stream",
     "text": [
      "['loss: 0.10266315191984177', 'binary_accuracy: 0.9712833166122437']\n",
      "['val_loss: 0.13631168007850647', 'val_binary_accuracy: 0.9742000102996826']\n"
     ]
    },
    {
     "name": "stderr",
     "output_type": "stream",
     "text": [
      "100%|██████████████████████████████████████████████████████████████████████████████| 1875/1875 [00:23<00:00, 80.33it/s]\n"
     ]
    },
    {
     "name": "stdout",
     "output_type": "stream",
     "text": [
      "['loss: 0.10226284712553024', 'binary_accuracy: 0.9716333150863647']\n",
      "['val_loss: 0.10437232255935669', 'val_binary_accuracy: 0.979200005531311']\n"
     ]
    },
    {
     "name": "stderr",
     "output_type": "stream",
     "text": [
      "100%|██████████████████████████████████████████████████████████████████████████████| 1875/1875 [00:33<00:00, 55.80it/s]\n"
     ]
    },
    {
     "name": "stdout",
     "output_type": "stream",
     "text": [
      "['loss: 0.09953545778989792', 'binary_accuracy: 0.9729999899864197']\n",
      "['val_loss: 0.10198183357715607', 'val_binary_accuracy: 0.9786999821662903']\n"
     ]
    },
    {
     "name": "stderr",
     "output_type": "stream",
     "text": [
      "100%|██████████████████████████████████████████████████████████████████████████████| 1875/1875 [00:28<00:00, 65.33it/s]\n"
     ]
    },
    {
     "name": "stdout",
     "output_type": "stream",
     "text": [
      "['loss: 0.30581405758857727', 'binary_accuracy: 0.873283326625824']\n",
      "['val_loss: 0.24555785953998566', 'val_binary_accuracy: 0.9049000144004822']\n"
     ]
    },
    {
     "name": "stderr",
     "output_type": "stream",
     "text": [
      "100%|██████████████████████████████████████████████████████████████████████████████| 1875/1875 [00:33<00:00, 56.36it/s]\n"
     ]
    },
    {
     "name": "stdout",
     "output_type": "stream",
     "text": [
      "['loss: 0.23808272182941437', 'binary_accuracy: 0.9049999713897705']\n",
      "['val_loss: 0.21688003838062286', 'val_binary_accuracy: 0.9146000146865845']\n"
     ]
    },
    {
     "name": "stderr",
     "output_type": "stream",
     "text": [
      "100%|██████████████████████████████████████████████████████████████████████████████| 1875/1875 [00:28<00:00, 66.34it/s]\n"
     ]
    },
    {
     "name": "stdout",
     "output_type": "stream",
     "text": [
      "['loss: 0.2121051400899887', 'binary_accuracy: 0.9156000018119812']\n",
      "['val_loss: 0.19754146039485931', 'val_binary_accuracy: 0.9226999878883362']\n"
     ]
    },
    {
     "name": "stderr",
     "output_type": "stream",
     "text": [
      "100%|██████████████████████████████████████████████████████████████████████████████| 1875/1875 [00:27<00:00, 67.19it/s]\n"
     ]
    },
    {
     "name": "stdout",
     "output_type": "stream",
     "text": [
      "['loss: 0.203724667429924', 'binary_accuracy: 0.9194833040237427']\n",
      "['val_loss: 0.18734537065029144', 'val_binary_accuracy: 0.9265999794006348']\n"
     ]
    },
    {
     "name": "stderr",
     "output_type": "stream",
     "text": [
      "100%|██████████████████████████████████████████████████████████████████████████████| 1875/1875 [00:26<00:00, 71.55it/s]\n"
     ]
    },
    {
     "name": "stdout",
     "output_type": "stream",
     "text": [
      "['loss: 0.1919778287410736', 'binary_accuracy: 0.9246000051498413']\n",
      "['val_loss: 0.18238277733325958', 'val_binary_accuracy: 0.9304999709129333']\n"
     ]
    },
    {
     "name": "stderr",
     "output_type": "stream",
     "text": [
      "100%|██████████████████████████████████████████████████████████████████████████████| 1875/1875 [00:28<00:00, 64.79it/s]\n"
     ]
    },
    {
     "name": "stdout",
     "output_type": "stream",
     "text": [
      "['loss: 0.1823308765888214', 'binary_accuracy: 0.928600013256073']\n",
      "['val_loss: 0.17032557725906372', 'val_binary_accuracy: 0.9351000189781189']\n"
     ]
    },
    {
     "name": "stderr",
     "output_type": "stream",
     "text": [
      "100%|██████████████████████████████████████████████████████████████████████████████| 1875/1875 [00:25<00:00, 74.79it/s]\n"
     ]
    },
    {
     "name": "stdout",
     "output_type": "stream",
     "text": [
      "['loss: 0.17428793013095856', 'binary_accuracy: 0.9309333562850952']\n",
      "['val_loss: 0.16884711384773254', 'val_binary_accuracy: 0.9330999851226807']\n"
     ]
    },
    {
     "name": "stderr",
     "output_type": "stream",
     "text": [
      "100%|██████████████████████████████████████████████████████████████████████████████| 1875/1875 [00:25<00:00, 74.87it/s]\n"
     ]
    },
    {
     "name": "stdout",
     "output_type": "stream",
     "text": [
      "['loss: 0.17020629346370697', 'binary_accuracy: 0.932283341884613']\n",
      "['val_loss: 0.16056907176971436', 'val_binary_accuracy: 0.9388999938964844']\n"
     ]
    },
    {
     "name": "stderr",
     "output_type": "stream",
     "text": [
      "100%|██████████████████████████████████████████████████████████████████████████████| 1875/1875 [00:27<00:00, 67.84it/s]\n"
     ]
    },
    {
     "name": "stdout",
     "output_type": "stream",
     "text": [
      "['loss: 0.1593446433544159', 'binary_accuracy: 0.9375']\n",
      "['val_loss: 0.1566997468471527', 'val_binary_accuracy: 0.9409999847412109']\n"
     ]
    },
    {
     "name": "stderr",
     "output_type": "stream",
     "text": [
      "100%|██████████████████████████████████████████████████████████████████████████████| 1875/1875 [00:25<00:00, 73.02it/s]\n"
     ]
    },
    {
     "name": "stdout",
     "output_type": "stream",
     "text": [
      "['loss: 0.15623322129249573', 'binary_accuracy: 0.9389500021934509']\n",
      "['val_loss: 0.15257935225963593', 'val_binary_accuracy: 0.9391999840736389']\n"
     ]
    }
   ],
   "source": [
    "# 1. Apply preprocessing to datasets\n",
    "\n",
    "#train_ds = train_ds.take(1000)\n",
    "#val_ds = val_ds.take(100)\n",
    "\n",
    "train_ds = preprocess(train_ds, batch_size=32, condition = 0) \n",
    "val_ds= preprocess(val_ds, batch_size=32, condition = 0) \n",
    "\n",
    "\n",
    "# 2. instantiate model\n",
    "models = [TwinMNISTModel(condition = 0, opt = 0), TwinMNISTModel(condition = 0, opt = 1), TwinMNISTModel(condition = 0, opt = 2), TwinMNISTModel(condition = 0, opt = 3)]\n",
    "\n",
    "# 3. choose a path to save the weights\n",
    "save_path = \"trained_model_RUN1\"\n",
    "\n",
    "# 4. pass arguments to training loop function\n",
    "n = 1\n",
    "\n",
    "for model in models: \n",
    "    train_summary_writer, val_summary_writer = create_summary_writers(config_name=\"RUN\"+ str(n))\n",
    "    n += 1\n",
    "    \n",
    "    training_loop(model=model,\n",
    "        train_ds=train_ds,\n",
    "        val_ds=val_ds,\n",
    "        start_epoch=0,\n",
    "        epochs=10,\n",
    "        train_summary_writer=train_summary_writer,\n",
    "        val_summary_writer=val_summary_writer,\n",
    "        save_path=save_path)\n",
    "    "
   ]
  }
 ],
 "metadata": {
  "kernelspec": {
   "display_name": "Python 3 (ipykernel)",
   "language": "python",
   "name": "python3"
  },
  "language_info": {
   "codemirror_mode": {
    "name": "ipython",
    "version": 3
   },
   "file_extension": ".py",
   "mimetype": "text/x-python",
   "name": "python",
   "nbconvert_exporter": "python",
   "pygments_lexer": "ipython3",
   "version": "3.7.13"
  }
 },
 "nbformat": 4,
 "nbformat_minor": 4
}
