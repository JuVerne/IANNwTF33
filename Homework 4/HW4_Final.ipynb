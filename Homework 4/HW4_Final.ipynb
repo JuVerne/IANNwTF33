{
 "cells": [
  {
   "cell_type": "code",
   "execution_count": 11,
   "metadata": {},
   "outputs": [
    {
     "name": "stdout",
     "output_type": "stream",
     "text": [
      "The tensorboard extension is already loaded. To reload it, use:\n",
      "  %reload_ext tensorboard\n"
     ]
    }
   ],
   "source": [
    "import tensorflow as tf\n",
    "import tensorflow_datasets as tfds\n",
    "import datetime\n",
    "\n",
    "%load_ext tensorboard"
   ]
  },
  {
   "cell_type": "code",
   "execution_count": 12,
   "metadata": {},
   "outputs": [],
   "source": [
    "# get mnist from tensorflow_datasets\n",
    "mnist = tfds.load(\"mnist\", split =[\"train\",\"test\"], as_supervised=True)\n",
    "train_ds = mnist[0]\n",
    "val_ds = mnist[1]"
   ]
  },
  {
   "cell_type": "code",
   "execution_count": 13,
   "metadata": {},
   "outputs": [],
   "source": [
    "# write function to create the dataset that we want\n",
    "# \"condition\" expects of of two arguments: condition==0 being the comparison, and condition == 1 being the subtraction\n",
    "def preprocess(data, batch_size, condition):\n",
    "    \n",
    "    \n",
    "    # image should be float\n",
    "    data = data.map(lambda x, t: (tf.cast(x, float), t))\n",
    "    # image should be flattened\n",
    "    data = data.map(lambda x, t: (tf.reshape(x, (-1,)), t))\n",
    "    # image vector will here have values between 0 and 1\n",
    "    data = data.map(lambda x,t: ((x/128.)-1, t))\n",
    "    \n",
    "    \n",
    "    # we want to have two mnist images in each example\n",
    "    # this leads to a single example being ((x1,y1),(x2,y2))\n",
    "    zipped_ds = tf.data.Dataset.zip((data.shuffle(2000), \n",
    "                                     data.shuffle(2000)))\n",
    "    \n",
    "    if condition == 0:\n",
    "        # use maping to change the target\n",
    "        zipped_ds = zipped_ds.map(lambda x1, x2: (x1[0], x2[0], x1[1]+x2[1] >= 5))\n",
    "        # transform boolean target to int\n",
    "        zipped_ds = zipped_ds.map(lambda x1, x2, t: (x1,x2, tf.cast(t, tf.int32)))\n",
    "    else:\n",
    "        # use maping to change the target\n",
    "        zipped_ds = zipped_ds.map(lambda x1, x2: (x1[0], x2[0], x1[1]-x2[1]))\n",
    "        # transform target to float\n",
    "        zipped_ds = zipped_ds.map(lambda x1, x2, t: (x1,x2, tf.cast(t, tf.float32)))\n",
    "        \n",
    "    \n",
    "    # batch the dataset\n",
    "    zipped_ds = zipped_ds.batch(batch_size)\n",
    "    # prefetch\n",
    "    zipped_ds = zipped_ds.prefetch(tf.data.AUTOTUNE)\n",
    "    return zipped_ds"
   ]
  },
  {
   "cell_type": "code",
   "execution_count": 14,
   "metadata": {},
   "outputs": [],
   "source": [
    "class TwinMNISTModel(tf.keras.Model):\n",
    "\n",
    "    # 1. constructor\n",
    "    # \"condition\" expects of of two arguments: condition==0 being the comparison, and condition == 1 being the subtraction\n",
    "    # \"opt\" expects of of two arguments: opt==0 being the Adam optimizer, opt == 1 being the SGD optimizer, opt == 2 being RMSprop and opt == 3 being ADAGrad\n",
    "    def __init__(self, condition, opt):\n",
    "        super().__init__()\n",
    "        # inherit functionality from parent class\n",
    "\n",
    "        # metrics, optimizer, and loss function \n",
    "        if condition == 0:\n",
    "            self.metrics_list = [tf.keras.metrics.Mean(name=\"loss\"),\n",
    "                                tf.keras.metrics.BinaryAccuracy()]\n",
    "        else:\n",
    "            self.metrics_list = [tf.keras.metrics.Mean(name=\"loss\"),\n",
    "                                 tf.keras.metrics.RootMeanSquaredError()]\n",
    "        \n",
    "        if opt == 0:\n",
    "            self.optimizer = tf.keras.optimizers.Adam()\n",
    "        elif opt == 1: \n",
    "            self.optimizer = tf.keras.optimizers.SGD(0.01, 0.03)\n",
    "        elif opt == 2: \n",
    "            self.optimizer = tf.keras.optimizers.RMSprop()\n",
    "        elif opt == 3: \n",
    "            self.optimizer = tf.keras.optimizers.Adagrad()\n",
    "        \n",
    "        if condition == 0:\n",
    "            self.loss_function = tf.keras.losses.BinaryCrossentropy()\n",
    "        else:\n",
    "            self.loss_function = tf.keras.losses.MeanSquaredError()\n",
    "            \n",
    "        # layers to encode the images (both layers used for both images)\n",
    "        self.dense1 = tf.keras.layers.Dense(128, activation=tf.nn.relu)\n",
    "        self.dense2 = tf.keras.layers.Dense(128, activation=tf.nn.relu)\n",
    "        \n",
    "        self.dense3 = tf.keras.layers.Dense(128, activation=tf.nn.relu)\n",
    "        \n",
    "        if condition == 0:\n",
    "            self.out_layer = tf.keras.layers.Dense(1,activation=tf.nn.sigmoid)\n",
    "        else:\n",
    "            self.out_layer = tf.keras.layers.Dense(1,activation=None)\n",
    "        \n",
    "    # 2. call method (forward computation)\n",
    "    def call(self, images, training=False):\n",
    "        img1, img2 = images\n",
    "        \n",
    "        img1_x = self.dense1(img1)\n",
    "        img1_x = self.dense2(img1_x)\n",
    "        \n",
    "        img2_x = self.dense1(img2)\n",
    "        img2_x = self.dense2(img2_x)\n",
    "        \n",
    "        combined_x = tf.concat([img1_x, img2_x ], axis=1)\n",
    "        combined_x = self.dense3(combined_x)\n",
    "        return self.out_layer(combined_x)\n",
    "\n",
    "    # 3. metrics property\n",
    "    @property\n",
    "    def metrics(self):\n",
    "        return self.metrics_list\n",
    "        # return a list with all metrics in the model\n",
    "\n",
    "    # 4. reset all metrics objects\n",
    "    def reset_metrics(self):\n",
    "        for metric in self.metrics:\n",
    "            metric.reset_states()\n",
    "\n",
    "    # 5. train step method\n",
    "    @tf.function\n",
    "    def train_step(self, data):\n",
    "        img1, img2, label = data\n",
    "        \n",
    "        with tf.GradientTape() as tape:\n",
    "            output = self((img1, img2), training=True)\n",
    "            loss = self.loss_function(label, output)\n",
    "            \n",
    "        gradients = tape.gradient(loss, self.trainable_variables)\n",
    "        \n",
    "        self.optimizer.apply_gradients(zip(gradients, self.trainable_variables))\n",
    "        \n",
    "        # update the state of the metrics\n",
    "        self.metrics[0].update_state(loss)\n",
    "        for metric in self.metrics[1:]:\n",
    "            metric.update_state(label, output)\n",
    "            \n",
    "        \n",
    "        # return a dictionary with metric names as keys and metric results as values\n",
    "        return {m.name : m.result() for m in self.metrics}\n",
    "\n",
    "    # 6. test_step method\n",
    "    @tf.function\n",
    "    def test_step(self, data):\n",
    "        img1, img2, label = data\n",
    "        # same as train step (without parameter updates)\n",
    "        output = self((img1, img2), training=False)\n",
    "        loss = self.loss_function(label, output)\n",
    "        self.metrics[0].update_state(loss)\n",
    "        for metric in self.metrics[1:]:\n",
    "            metric.update_state(label, output)\n",
    "        \n",
    "        return {m.name : m.result() for m in self.metrics}"
   ]
  },
  {
   "cell_type": "code",
   "execution_count": 15,
   "metadata": {},
   "outputs": [],
   "source": [
    "def create_summary_writers(config_name):\n",
    "    \n",
    "    # Define where to save the logs\n",
    "    # along with this, you may want to save a config file with the same name so you know what the hyperparameters were used\n",
    "    # alternatively make a copy of the code that is used for later reference\n",
    "    \n",
    "    current_time = datetime.datetime.now().strftime(\"%Y%m%d-%H%M%S\")\n",
    "\n",
    "    train_log_path = f\"logs/{config_name}/{current_time}/train\"\n",
    "    val_log_path = f\"logs/{config_name}/{current_time}/val\"\n",
    "\n",
    "    # log writer for training metrics\n",
    "    train_summary_writer = tf.summary.create_file_writer(train_log_path)\n",
    "\n",
    "    # log writer for validation metrics\n",
    "    val_summary_writer = tf.summary.create_file_writer(val_log_path)\n",
    "    \n",
    "    return train_summary_writer, val_summary_writer\n",
    "\n",
    "train_summary_writer, val_summary_writer = create_summary_writers(config_name=\"RUN1\")"
   ]
  },
  {
   "cell_type": "code",
   "execution_count": 16,
   "metadata": {},
   "outputs": [],
   "source": [
    "import tqdm\n",
    "def training_loop(model, train_ds, val_ds, start_epoch,\n",
    "                  epochs, train_summary_writer, \n",
    "                  val_summary_writer, save_path):\n",
    "\n",
    "    # 1. iterate over epochs\n",
    "    for e in range(start_epoch, epochs):\n",
    "\n",
    "        # 2. train steps on all batches in the training data\n",
    "        for data in tqdm.tqdm(train_ds, position=0, leave=True):\n",
    "            metrics = model.train_step(data)\n",
    "\n",
    "        # 3. log and print training metrics\n",
    "\n",
    "        with train_summary_writer.as_default():\n",
    "            # for scalar metrics:\n",
    "            for metric in model.metrics:\n",
    "                    tf.summary.scalar(f\"{metric.name}\", metric.result(), step=e)\n",
    "            # alternatively, log metrics individually (allows for non-scalar metrics such as tf.keras.metrics.MeanTensor)\n",
    "            # e.g. tf.summary.image(name=\"mean_activation_layer3\", data = metrics[\"mean_activation_layer3\"],step=e)\n",
    "        \n",
    "        #print the metrics\n",
    "        print([f\"{key}: {value.numpy()}\" for (key, value) in metrics.items()])\n",
    "        \n",
    "        # 4. reset metric objects\n",
    "        model.reset_metrics()\n",
    "\n",
    "\n",
    "        # 5. evaluate on validation data\n",
    "        for data in val_ds:\n",
    "            metrics = model.test_step(data)\n",
    "        \n",
    "\n",
    "        # 6. log validation metrics\n",
    "\n",
    "        with val_summary_writer.as_default():\n",
    "            # for scalar metrics:\n",
    "            for metric in model.metrics:\n",
    "                    tf.summary.scalar(f\"{metric.name}\", metric.result(), step=e)\n",
    "            # alternatively, log metrics individually (allows for non-scalar metrics such as tf.keras.metrics.MeanTensor)\n",
    "            # e.g. tf.summary.image(name=\"mean_activation_layer3\", data = metrics[\"mean_activation_layer3\"],step=e)\n",
    "            \n",
    "        print([f\"val_{key}: {value.numpy()}\" for (key, value) in metrics.items()])\n",
    "        # 7. reset metric objects\n",
    "        model.reset_metrics()\n",
    "        \n",
    "    # 8. save model weights if save_path is given\n",
    "    if save_path:\n",
    "        model.save_weights(save_path)"
   ]
  },
  {
   "cell_type": "code",
   "execution_count": 23,
   "metadata": {},
   "outputs": [
    {
     "data": {
      "text/html": [
       "\n",
       "      <iframe id=\"tensorboard-frame-8da12106a65360df\" width=\"100%\" height=\"800\" frameborder=\"0\">\n",
       "      </iframe>\n",
       "      <script>\n",
       "        (function() {\n",
       "          const frame = document.getElementById(\"tensorboard-frame-8da12106a65360df\");\n",
       "          const url = new URL(\"/\", window.location);\n",
       "          const port = 8087;\n",
       "          if (port) {\n",
       "            url.port = port;\n",
       "          }\n",
       "          frame.src = url;\n",
       "        })();\n",
       "      </script>\n",
       "    "
      ],
      "text/plain": [
       "<IPython.core.display.HTML object>"
      ]
     },
     "metadata": {},
     "output_type": "display_data"
    }
   ],
   "source": [
    "# open the tensorboard logs\n",
    "%tensorboard --logdir logs/ --host localhost --port 8087"
   ]
  },
  {
   "cell_type": "code",
   "execution_count": 18,
   "metadata": {},
   "outputs": [
    {
     "name": "stderr",
     "output_type": "stream",
     "text": [
      "100%|██████████████████████████████████████████████████████████████████████████████████| 32/32 [00:02<00:00, 11.52it/s]\n"
     ]
    },
    {
     "name": "stdout",
     "output_type": "stream",
     "text": [
      "['loss: 0.388851523399353', 'binary_accuracy: 0.8529999852180481']\n",
      "['val_loss: 0.2272973656654358', 'val_binary_accuracy: 0.9599999785423279']\n"
     ]
    },
    {
     "name": "stderr",
     "output_type": "stream",
     "text": [
      "100%|██████████████████████████████████████████████████████████████████████████████████| 32/32 [00:00<00:00, 33.59it/s]\n"
     ]
    },
    {
     "name": "stdout",
     "output_type": "stream",
     "text": [
      "['loss: 0.2923172116279602', 'binary_accuracy: 0.8870000243186951']\n",
      "['val_loss: 0.18500521779060364', 'val_binary_accuracy: 0.9200000166893005']\n"
     ]
    },
    {
     "name": "stderr",
     "output_type": "stream",
     "text": [
      "100%|██████████████████████████████████████████████████████████████████████████████████| 32/32 [00:00<00:00, 49.90it/s]\n"
     ]
    },
    {
     "name": "stdout",
     "output_type": "stream",
     "text": [
      "['loss: 0.24198299646377563', 'binary_accuracy: 0.890999972820282']\n",
      "['val_loss: 0.23309899866580963', 'val_binary_accuracy: 0.8799999952316284']\n"
     ]
    },
    {
     "name": "stderr",
     "output_type": "stream",
     "text": [
      "100%|██████████████████████████████████████████████████████████████████████████████████| 32/32 [00:00<00:00, 41.99it/s]\n"
     ]
    },
    {
     "name": "stdout",
     "output_type": "stream",
     "text": [
      "['loss: 0.22743022441864014', 'binary_accuracy: 0.9129999876022339']\n",
      "['val_loss: 0.2131834775209427', 'val_binary_accuracy: 0.9200000166893005']\n"
     ]
    },
    {
     "name": "stderr",
     "output_type": "stream",
     "text": [
      "100%|██████████████████████████████████████████████████████████████████████████████████| 32/32 [00:00<00:00, 39.28it/s]\n"
     ]
    },
    {
     "name": "stdout",
     "output_type": "stream",
     "text": [
      "['loss: 0.20241135358810425', 'binary_accuracy: 0.9229999780654907']\n",
      "['val_loss: 0.09704262763261795', 'val_binary_accuracy: 0.9700000286102295']\n"
     ]
    },
    {
     "name": "stderr",
     "output_type": "stream",
     "text": [
      "100%|██████████████████████████████████████████████████████████████████████████████████| 32/32 [00:00<00:00, 53.34it/s]\n"
     ]
    },
    {
     "name": "stdout",
     "output_type": "stream",
     "text": [
      "['loss: 0.16121795773506165', 'binary_accuracy: 0.9350000023841858']\n",
      "['val_loss: 0.14412786066532135', 'val_binary_accuracy: 0.9300000071525574']\n"
     ]
    },
    {
     "name": "stderr",
     "output_type": "stream",
     "text": [
      "100%|██████████████████████████████████████████████████████████████████████████████████| 32/32 [00:00<00:00, 71.65it/s]\n"
     ]
    },
    {
     "name": "stdout",
     "output_type": "stream",
     "text": [
      "['loss: 0.173521026968956', 'binary_accuracy: 0.9269999861717224']\n",
      "['val_loss: 0.13701914250850677', 'val_binary_accuracy: 0.9300000071525574']\n"
     ]
    },
    {
     "name": "stderr",
     "output_type": "stream",
     "text": [
      "100%|██████████████████████████████████████████████████████████████████████████████████| 32/32 [00:00<00:00, 37.59it/s]\n"
     ]
    },
    {
     "name": "stdout",
     "output_type": "stream",
     "text": [
      "['loss: 0.12597312033176422', 'binary_accuracy: 0.953000009059906']\n",
      "['val_loss: 0.3014538884162903', 'val_binary_accuracy: 0.8899999856948853']\n"
     ]
    },
    {
     "name": "stderr",
     "output_type": "stream",
     "text": [
      "100%|██████████████████████████████████████████████████████████████████████████████████| 32/32 [00:01<00:00, 28.52it/s]\n"
     ]
    },
    {
     "name": "stdout",
     "output_type": "stream",
     "text": [
      "['loss: 0.1341877281665802', 'binary_accuracy: 0.9520000219345093']\n",
      "['val_loss: 0.6348443031311035', 'val_binary_accuracy: 0.8600000143051147']\n"
     ]
    },
    {
     "name": "stderr",
     "output_type": "stream",
     "text": [
      "100%|██████████████████████████████████████████████████████████████████████████████████| 32/32 [00:00<00:00, 65.76it/s]\n"
     ]
    },
    {
     "name": "stdout",
     "output_type": "stream",
     "text": [
      "['loss: 0.16838447749614716', 'binary_accuracy: 0.9269999861717224']\n",
      "['val_loss: 0.14650402963161469', 'val_binary_accuracy: 0.9300000071525574']\n"
     ]
    },
    {
     "name": "stderr",
     "output_type": "stream",
     "text": [
      "100%|██████████████████████████████████████████████████████████████████████████████████| 32/32 [00:02<00:00, 13.41it/s]\n"
     ]
    },
    {
     "name": "stdout",
     "output_type": "stream",
     "text": [
      "['loss: 0.4075101315975189', 'binary_accuracy: 0.8600000143051147']\n",
      "['val_loss: 0.4542008638381958', 'val_binary_accuracy: 0.8500000238418579']\n"
     ]
    },
    {
     "name": "stderr",
     "output_type": "stream",
     "text": [
      "100%|██████████████████████████████████████████████████████████████████████████████████| 32/32 [00:00<00:00, 34.52it/s]\n"
     ]
    },
    {
     "name": "stdout",
     "output_type": "stream",
     "text": [
      "['loss: 0.38847601413726807', 'binary_accuracy: 0.8579999804496765']\n",
      "['val_loss: 0.2480352520942688', 'val_binary_accuracy: 0.9200000166893005']\n"
     ]
    },
    {
     "name": "stderr",
     "output_type": "stream",
     "text": [
      "100%|██████████████████████████████████████████████████████████████████████████████████| 32/32 [00:01<00:00, 30.84it/s]\n"
     ]
    },
    {
     "name": "stdout",
     "output_type": "stream",
     "text": [
      "['loss: 0.33763039112091064', 'binary_accuracy: 0.8679999709129333']\n",
      "['val_loss: 0.21237212419509888', 'val_binary_accuracy: 0.8999999761581421']\n"
     ]
    },
    {
     "name": "stderr",
     "output_type": "stream",
     "text": [
      "100%|██████████████████████████████████████████████████████████████████████████████████| 32/32 [00:00<00:00, 52.62it/s]\n"
     ]
    },
    {
     "name": "stdout",
     "output_type": "stream",
     "text": [
      "['loss: 0.3507174253463745', 'binary_accuracy: 0.8529999852180481']\n",
      "['val_loss: 0.3089398741722107', 'val_binary_accuracy: 0.8899999856948853']\n"
     ]
    },
    {
     "name": "stderr",
     "output_type": "stream",
     "text": [
      "100%|██████████████████████████████████████████████████████████████████████████████████| 32/32 [00:00<00:00, 38.06it/s]\n"
     ]
    },
    {
     "name": "stdout",
     "output_type": "stream",
     "text": [
      "['loss: 0.30864331126213074', 'binary_accuracy: 0.8709999918937683']\n",
      "['val_loss: 0.3333030641078949', 'val_binary_accuracy: 0.9100000262260437']\n"
     ]
    },
    {
     "name": "stderr",
     "output_type": "stream",
     "text": [
      "100%|██████████████████████████████████████████████████████████████████████████████████| 32/32 [00:00<00:00, 77.11it/s]\n"
     ]
    },
    {
     "name": "stdout",
     "output_type": "stream",
     "text": [
      "['loss: 0.2812954783439636', 'binary_accuracy: 0.8820000290870667']\n",
      "['val_loss: 0.360111802816391', 'val_binary_accuracy: 0.8999999761581421']\n"
     ]
    },
    {
     "name": "stderr",
     "output_type": "stream",
     "text": [
      "100%|██████████████████████████████████████████████████████████████████████████████████| 32/32 [00:00<00:00, 38.45it/s]\n"
     ]
    },
    {
     "name": "stdout",
     "output_type": "stream",
     "text": [
      "['loss: 0.31671255826950073', 'binary_accuracy: 0.8690000176429749']\n",
      "['val_loss: 0.3859708607196808', 'val_binary_accuracy: 0.8700000047683716']\n"
     ]
    },
    {
     "name": "stderr",
     "output_type": "stream",
     "text": [
      "100%|██████████████████████████████████████████████████████████████████████████████████| 32/32 [00:00<00:00, 77.71it/s]\n"
     ]
    },
    {
     "name": "stdout",
     "output_type": "stream",
     "text": [
      "['loss: 0.2855183482170105', 'binary_accuracy: 0.8849999904632568']\n",
      "['val_loss: 0.24531179666519165', 'val_binary_accuracy: 0.8899999856948853']\n"
     ]
    },
    {
     "name": "stderr",
     "output_type": "stream",
     "text": [
      "100%|██████████████████████████████████████████████████████████████████████████████████| 32/32 [00:00<00:00, 32.60it/s]\n"
     ]
    },
    {
     "name": "stdout",
     "output_type": "stream",
     "text": [
      "['loss: 0.2710180878639221', 'binary_accuracy: 0.8859999775886536']\n",
      "['val_loss: 0.21178729832172394', 'val_binary_accuracy: 0.8899999856948853']\n"
     ]
    },
    {
     "name": "stderr",
     "output_type": "stream",
     "text": [
      "100%|██████████████████████████████████████████████████████████████████████████████████| 32/32 [00:00<00:00, 39.56it/s]\n"
     ]
    },
    {
     "name": "stdout",
     "output_type": "stream",
     "text": [
      "['loss: 0.26088637113571167', 'binary_accuracy: 0.8870000243186951']\n",
      "['val_loss: 0.3040705919265747', 'val_binary_accuracy: 0.8799999952316284']\n"
     ]
    },
    {
     "name": "stderr",
     "output_type": "stream",
     "text": [
      "100%|██████████████████████████████████████████████████████████████████████████████████| 32/32 [00:03<00:00, 10.23it/s]\n"
     ]
    },
    {
     "name": "stdout",
     "output_type": "stream",
     "text": [
      "['loss: 0.4115538001060486', 'binary_accuracy: 0.8450000286102295']\n",
      "['val_loss: 0.9645083546638489', 'val_binary_accuracy: 0.8299999833106995']\n"
     ]
    },
    {
     "name": "stderr",
     "output_type": "stream",
     "text": [
      "100%|██████████████████████████████████████████████████████████████████████████████████| 32/32 [00:00<00:00, 50.56it/s]\n"
     ]
    },
    {
     "name": "stdout",
     "output_type": "stream",
     "text": [
      "['loss: 0.32576844096183777', 'binary_accuracy: 0.875']\n",
      "['val_loss: 0.16567063331604004', 'val_binary_accuracy: 0.9200000166893005']\n"
     ]
    },
    {
     "name": "stderr",
     "output_type": "stream",
     "text": [
      "100%|██████████████████████████████████████████████████████████████████████████████████| 32/32 [00:00<00:00, 69.41it/s]\n"
     ]
    },
    {
     "name": "stdout",
     "output_type": "stream",
     "text": [
      "['loss: 0.2824394404888153', 'binary_accuracy: 0.8740000128746033']\n",
      "['val_loss: 0.2707924246788025', 'val_binary_accuracy: 0.9100000262260437']\n"
     ]
    },
    {
     "name": "stderr",
     "output_type": "stream",
     "text": [
      "100%|██████████████████████████████████████████████████████████████████████████████████| 32/32 [00:00<00:00, 79.60it/s]\n"
     ]
    },
    {
     "name": "stdout",
     "output_type": "stream",
     "text": [
      "['loss: 0.22288037836551666', 'binary_accuracy: 0.9049999713897705']\n",
      "['val_loss: 0.2441994845867157', 'val_binary_accuracy: 0.8999999761581421']\n"
     ]
    },
    {
     "name": "stderr",
     "output_type": "stream",
     "text": [
      "100%|██████████████████████████████████████████████████████████████████████████████████| 32/32 [00:00<00:00, 64.84it/s]\n"
     ]
    },
    {
     "name": "stdout",
     "output_type": "stream",
     "text": [
      "['loss: 0.26614150404930115', 'binary_accuracy: 0.8970000147819519']\n",
      "['val_loss: 0.5322057008743286', 'val_binary_accuracy: 0.8399999737739563']\n"
     ]
    },
    {
     "name": "stderr",
     "output_type": "stream",
     "text": [
      "100%|██████████████████████████████████████████████████████████████████████████████████| 32/32 [00:00<00:00, 40.07it/s]\n"
     ]
    },
    {
     "name": "stdout",
     "output_type": "stream",
     "text": [
      "['loss: 0.21314211189746857', 'binary_accuracy: 0.9089999794960022']\n",
      "['val_loss: 0.14886780083179474', 'val_binary_accuracy: 0.9200000166893005']\n"
     ]
    },
    {
     "name": "stderr",
     "output_type": "stream",
     "text": [
      "100%|██████████████████████████████████████████████████████████████████████████████████| 32/32 [00:00<00:00, 37.27it/s]\n"
     ]
    },
    {
     "name": "stdout",
     "output_type": "stream",
     "text": [
      "['loss: 0.17909716069698334', 'binary_accuracy: 0.9169999957084656']\n",
      "['val_loss: 0.26561206579208374', 'val_binary_accuracy: 0.9100000262260437']\n"
     ]
    },
    {
     "name": "stderr",
     "output_type": "stream",
     "text": [
      "100%|██████████████████████████████████████████████████████████████████████████████████| 32/32 [00:00<00:00, 48.45it/s]\n"
     ]
    },
    {
     "name": "stdout",
     "output_type": "stream",
     "text": [
      "['loss: 0.16277262568473816', 'binary_accuracy: 0.9350000023841858']\n",
      "['val_loss: 0.14507748186588287', 'val_binary_accuracy: 0.9399999976158142']\n"
     ]
    },
    {
     "name": "stderr",
     "output_type": "stream",
     "text": [
      "100%|██████████████████████████████████████████████████████████████████████████████████| 32/32 [00:00<00:00, 51.14it/s]\n"
     ]
    },
    {
     "name": "stdout",
     "output_type": "stream",
     "text": [
      "['loss: 0.1761062890291214', 'binary_accuracy: 0.9259999990463257']\n",
      "['val_loss: 0.19967857003211975', 'val_binary_accuracy: 0.9100000262260437']\n"
     ]
    },
    {
     "name": "stderr",
     "output_type": "stream",
     "text": [
      "100%|██████████████████████████████████████████████████████████████████████████████████| 32/32 [00:00<00:00, 38.33it/s]\n"
     ]
    },
    {
     "name": "stdout",
     "output_type": "stream",
     "text": [
      "['loss: 0.14929237961769104', 'binary_accuracy: 0.9459999799728394']\n",
      "['val_loss: 0.2885628640651703', 'val_binary_accuracy: 0.9100000262260437']\n"
     ]
    },
    {
     "name": "stderr",
     "output_type": "stream",
     "text": [
      "100%|██████████████████████████████████████████████████████████████████████████████████| 32/32 [00:02<00:00, 11.02it/s]\n"
     ]
    },
    {
     "name": "stdout",
     "output_type": "stream",
     "text": [
      "['loss: 0.40819212794303894', 'binary_accuracy: 0.8569999933242798']\n",
      "['val_loss: 0.3486158847808838', 'val_binary_accuracy: 0.8600000143051147']\n"
     ]
    },
    {
     "name": "stderr",
     "output_type": "stream",
     "text": [
      "100%|██████████████████████████████████████████████████████████████████████████████████| 32/32 [00:00<00:00, 40.77it/s]\n"
     ]
    },
    {
     "name": "stdout",
     "output_type": "stream",
     "text": [
      "['loss: 0.4386744201183319', 'binary_accuracy: 0.8420000076293945']\n",
      "['val_loss: 0.4298413395881653', 'val_binary_accuracy: 0.8999999761581421']\n"
     ]
    },
    {
     "name": "stderr",
     "output_type": "stream",
     "text": [
      "100%|██████████████████████████████████████████████████████████████████████████████████| 32/32 [00:00<00:00, 51.62it/s]\n"
     ]
    },
    {
     "name": "stdout",
     "output_type": "stream",
     "text": [
      "['loss: 0.41023877263069153', 'binary_accuracy: 0.843999981880188']\n",
      "['val_loss: 0.282869428396225', 'val_binary_accuracy: 0.8999999761581421']\n"
     ]
    },
    {
     "name": "stderr",
     "output_type": "stream",
     "text": [
      "100%|██████████████████████████████████████████████████████████████████████████████████| 32/32 [00:00<00:00, 50.12it/s]\n"
     ]
    },
    {
     "name": "stdout",
     "output_type": "stream",
     "text": [
      "['loss: 0.3755704164505005', 'binary_accuracy: 0.8560000061988831']\n",
      "['val_loss: 0.3885429799556732', 'val_binary_accuracy: 0.8899999856948853']\n"
     ]
    },
    {
     "name": "stderr",
     "output_type": "stream",
     "text": [
      "100%|██████████████████████████████████████████████████████████████████████████████████| 32/32 [00:00<00:00, 45.17it/s]\n"
     ]
    },
    {
     "name": "stdout",
     "output_type": "stream",
     "text": [
      "['loss: 0.3603505492210388', 'binary_accuracy: 0.859000027179718']\n",
      "['val_loss: 0.2630729675292969', 'val_binary_accuracy: 0.8999999761581421']\n"
     ]
    },
    {
     "name": "stderr",
     "output_type": "stream",
     "text": [
      "100%|██████████████████████████████████████████████████████████████████████████████████| 32/32 [00:00<00:00, 42.81it/s]\n"
     ]
    },
    {
     "name": "stdout",
     "output_type": "stream",
     "text": [
      "['loss: 0.34355854988098145', 'binary_accuracy: 0.8709999918937683']\n",
      "['val_loss: 0.2850380539894104', 'val_binary_accuracy: 0.9100000262260437']\n"
     ]
    },
    {
     "name": "stderr",
     "output_type": "stream",
     "text": [
      "100%|██████████████████████████████████████████████████████████████████████████████████| 32/32 [00:00<00:00, 66.11it/s]\n"
     ]
    },
    {
     "name": "stdout",
     "output_type": "stream",
     "text": [
      "['loss: 0.34911295771598816', 'binary_accuracy: 0.8579999804496765']\n",
      "['val_loss: 0.25965988636016846', 'val_binary_accuracy: 0.8999999761581421']\n"
     ]
    },
    {
     "name": "stderr",
     "output_type": "stream",
     "text": [
      "100%|██████████████████████████████████████████████████████████████████████████████████| 32/32 [00:00<00:00, 36.44it/s]\n"
     ]
    },
    {
     "name": "stdout",
     "output_type": "stream",
     "text": [
      "['loss: 0.34839850664138794', 'binary_accuracy: 0.8569999933242798']\n",
      "['val_loss: 0.27079787850379944', 'val_binary_accuracy: 0.8999999761581421']\n"
     ]
    },
    {
     "name": "stderr",
     "output_type": "stream",
     "text": [
      "100%|██████████████████████████████████████████████████████████████████████████████████| 32/32 [00:00<00:00, 41.23it/s]\n"
     ]
    },
    {
     "name": "stdout",
     "output_type": "stream",
     "text": [
      "['loss: 0.32197996973991394', 'binary_accuracy: 0.8659999966621399']\n",
      "['val_loss: 0.2427900731563568', 'val_binary_accuracy: 0.9100000262260437']\n"
     ]
    },
    {
     "name": "stderr",
     "output_type": "stream",
     "text": [
      "100%|██████████████████████████████████████████████████████████████████████████████████| 32/32 [00:00<00:00, 70.38it/s]\n"
     ]
    },
    {
     "name": "stdout",
     "output_type": "stream",
     "text": [
      "['loss: 0.30550071597099304', 'binary_accuracy: 0.8629999756813049']\n",
      "['val_loss: 0.4731706976890564', 'val_binary_accuracy: 0.8899999856948853']\n"
     ]
    }
   ],
   "source": [
    "# 1. Apply preprocessing to datasets\n",
    "\n",
    "train_ds = train_ds.take(1000)\n",
    "val_ds = val_ds.take(100)\n",
    "\n",
    "train_ds = preprocess(train_ds, batch_size=32, condition = 0) \n",
    "val_ds= preprocess(val_ds, batch_size=32, condition = 0) \n",
    "\n",
    "\n",
    "# 2. instantiate model\n",
    "models = [TwinMNISTModel(condition = 0, opt = 0), TwinMNISTModel(condition = 0, opt = 1), TwinMNISTModel(condition = 0, opt = 2), TwinMNISTModel(condition = 0, opt = 3)]\n",
    "\n",
    "# 3. choose a path to save the weights\n",
    "save_path = \"trained_model_RUN1\"\n",
    "\n",
    "# 4. pass arguments to training loop function\n",
    "\n",
    "for model in models: \n",
    "    training_loop(model=model,\n",
    "        train_ds=train_ds,\n",
    "        val_ds=val_ds,\n",
    "        start_epoch=0,\n",
    "        epochs=10,\n",
    "        train_summary_writer=train_summary_writer,\n",
    "        val_summary_writer=val_summary_writer,\n",
    "        save_path=save_path)\n",
    "    "
   ]
  },
  {
   "cell_type": "code",
   "execution_count": null,
   "metadata": {},
   "outputs": [],
   "source": []
  }
 ],
 "metadata": {
  "kernelspec": {
   "display_name": "Python 3 (ipykernel)",
   "language": "python",
   "name": "python3"
  },
  "language_info": {
   "codemirror_mode": {
    "name": "ipython",
    "version": 3
   },
   "file_extension": ".py",
   "mimetype": "text/x-python",
   "name": "python",
   "nbconvert_exporter": "python",
   "pygments_lexer": "ipython3",
   "version": "3.7.13"
  }
 },
 "nbformat": 4,
 "nbformat_minor": 4
}
