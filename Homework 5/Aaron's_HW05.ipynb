{
  "cells": [
    {
      "cell_type": "code",
      "execution_count": 8,
      "metadata": {
        "id": "V8_iDsA_fk8p",
        "colab": {
          "base_uri": "https://localhost:8080/"
        },
        "outputId": "2cf5a992-2e8c-4180-dfc0-2d710725dab3"
      },
      "outputs": [
        {
          "output_type": "stream",
          "name": "stdout",
          "text": [
            "The tensorboard extension is already loaded. To reload it, use:\n",
            "  %reload_ext tensorboard\n"
          ]
        }
      ],
      "source": [
        "import tensorflow as tf\n",
        "import tensorflow_datasets as tfds\n",
        "import matplotlib.pyplot as plt\n",
        "import numpy as np\n",
        "import math\n",
        "import datetime\n",
        "\n",
        "# in a notebook, load the tensorboard extension, not needed for scripts\n",
        "%load_ext tensorboard"
      ]
    },
    {
      "cell_type": "code",
      "execution_count": 9,
      "metadata": {
        "id": "GxYEuG0pgDid"
      },
      "outputs": [],
      "source": [
        "(train_ds, test_ds), info_ds = tfds.load(\"cifar10\", split = [\"train\", \"test\"], as_supervised = True, with_info = True)"
      ]
    },
    {
      "cell_type": "code",
      "execution_count": 11,
      "metadata": {
        "id": "DjvRG92NiUDa"
      },
      "outputs": [],
      "source": [
        "def preprocessing(data):\n",
        "  #convert data from uint8 to float32\n",
        "  data = data.map(lambda img, target: (tf.cast(img, tf.float32), target))\n",
        "  #sloppy input normalization, just bringing image values from range [0, 255] to [-1, 1]\n",
        "  data = data.map(lambda img, target: ((img/128.)-1., target))\n",
        "  #create one-hot targets\n",
        "  data = data.map(lambda img, target: (img, tf.one_hot(target, depth=10)))\n",
        "  #cache this progress in memory, as there is no need to redo it; it is deterministic after all\n",
        "  data = data.cache()\n",
        "  #shuffle, batch, prefetch\n",
        "  data = data.shuffle(1000)\n",
        "  data = data.batch(32)\n",
        "  data = data.prefetch(20)\n",
        "  #return preprocessed dataset\n",
        "  return data\n"
      ]
    },
    {
      "cell_type": "code",
      "execution_count": 47,
      "metadata": {
        "id": "2cZjYlWBgNE0"
      },
      "outputs": [],
      "source": [
        "from tensorflow.keras.layers import Dense\n",
        "\n",
        "class BasicConv(tf.keras.Model):\n",
        "    def __init__(self):\n",
        "        super(BasicConv, self).__init__()\n",
        "\n",
        "        self.convlayer1 = tf.keras.layers.Conv2D(filters=32, kernel_size=3, padding='same', activation='relu')\n",
        "        self.convlayer2 = tf.keras.layers.Conv2D(filters=32, kernel_size=3, padding='same', activation='relu')\n",
        "        self.pooling = tf.keras.layers.MaxPooling2D(pool_size=2, strides=2)\n",
        "\n",
        "        self.convlayer3 = tf.keras.layers.Conv2D(filters=64, kernel_size=3, padding='same', activation='relu')\n",
        "        self.convlayer4 = tf.keras.layers.Conv2D(filters=64, kernel_size=3, padding='same', activation='relu')\n",
        "        self.pooling2 = tf.keras.layers.GlobalAveragePooling2D()\n",
        "\n",
        "        self.out = tf.keras.layers.Dense(10, activation='softmax')\n",
        "\n",
        "    def call(self, x):\n",
        "        x = self.convlayer1(x)\n",
        "        x = self.convlayer2(x)\n",
        "        x = self.pooling(x)\n",
        "        x = self.convlayer3(x)\n",
        "        x = self.convlayer4(x)\n",
        "        x = self.pooling2(x)\n",
        "\n",
        "        x = self.out(x)\n",
        "        return x\n",
        "    \n",
        "    def train_step(self, input, target, loss_function, optimizer):\n",
        "\n",
        "      with tf.GradientTape() as tape:\n",
        "        prediction = self(input)\n",
        "        loss = loss_function(target, prediction)\n",
        "      gradients = tape.gradient(loss, self.trainable_variables)\n",
        "      optimizer.apply_gradients(zip(gradients, self.trainable_variables))\n",
        "      return loss\n",
        "\n",
        "    def test(model, test_data, loss_function):\n",
        "      test_accuracy_aggregator = []\n",
        "      test_loss_aggregator = []\n",
        "\n",
        "      for (input, target) in test_data:\n",
        "        prediction = model(input)\n",
        "        sample_test_loss = loss_function(target, prediction)\n",
        "        sample_test_accuracy = np.mean(np.argmax(target, axis = 1) == np.argmax(prediction, axis=1))\n",
        "        test_loss_aggregator.append(sample_test_loss.numpy())\n",
        "        test_accuracy_aggregator.append(np.mean(sample_test_accuracy))\n",
        "\n",
        "      test_loss = tf.reduce_mean(test_loss_aggregator)\n",
        "      test_accuracy = tf.reduce_mean(test_accuracy_aggregator)\n",
        "      return test_loss, test_accuracy\n",
        "\n",
        "    "
      ]
    },
    {
      "cell_type": "code",
      "source": [
        "\n",
        "\n",
        "def training_loop(model, data, optimizer, n_epochs, loss_function):\n",
        "\n",
        "    train_losses = []\n",
        "    test_losses = []\n",
        "    test_accuracies = []\n",
        "\n",
        "    train_data, test_data = data\n",
        "\n",
        "    test_loss, test_accuracy = model.test(test_data, loss_function)\n",
        "    test_losses.append(test_loss)\n",
        "    test_accuracies.append(test_accuracy)\n",
        "\n",
        "    # testing on test data before begin\n",
        "    train_loss, _ = model.test(train_data, loss_function)\n",
        "    train_losses.append(train_loss)\n",
        "\n",
        "    # train for epochs\n",
        "    for epoch in range(n_epochs):\n",
        "     \n",
        "      print(f'Epoch: {str(epoch)} starting with accuracy {test_accuracies[-1]} testing loss {test_losses[-1]} and training loss {train_losses[-1]}')  \n",
        "\n",
        "      epoch_loss_agg = []\n",
        "      for input, target in train_data:\n",
        "        train_loss = model.train_step(input, target, loss_function, optimizer)\n",
        "        epoch_loss_agg.append(train_loss)\n",
        "\n",
        "      train_losses.append(tf.reduce_mean(epoch_loss_agg))\n",
        "\n",
        "      test_loss, test_accuracy = model.test(test_data, loss_function)\n",
        "      test_losses.append(test_loss)\n",
        "      test_accuracies.append(test_accuracy)\n",
        "\n",
        "    x = [i for i in range(n_epochs + 1)]\n",
        "    plt.plot(train_losses, label = \"train loss\")\n",
        "    plt.plot(test_losses, label = \"test loss\")\n",
        "    plt.plot(test_accuracies, label = \"test accuracy\")\n",
        "    plt.legend()\n",
        "    plt.show()"
      ],
      "metadata": {
        "id": "TUZKzha00MH2"
      },
      "execution_count": 66,
      "outputs": []
    },
    {
      "cell_type": "code",
      "source": [
        "# this is the first architecture I used. Architercture: 2 covlayers with 32 filters, max pooling, 2 conv layers with 64 filters, global avg pooling, softmax\n",
        "training_loop(model = BasicConv(), \n",
        "              data = (preprocessing(train_ds), preprocessing(test_ds)),\n",
        "              optimizer = tf.keras.optimizers.Adam(),\n",
        "              n_epochs = 15, \n",
        "              loss_function = tf.keras.losses.CategoricalCrossentropy())"
      ],
      "metadata": {
        "colab": {
          "base_uri": "https://localhost:8080/",
          "height": 580
        },
        "id": "cNWyu1Pq7uNm",
        "outputId": "e2004d69-3eb3-458f-c6d3-6b16cc133fca"
      },
      "execution_count": 64,
      "outputs": [
        {
          "output_type": "stream",
          "name": "stdout",
          "text": [
            "Epoch: 0 starting with accuracy 0.095625 testing loss 2.3084986209869385 and training loss 2.307509422302246\n",
            "Epoch: 1 starting with accuracy 0.225 testing loss 2.056147575378418 and training loss 2.1803367137908936\n",
            "Epoch: 2 starting with accuracy 0.2846875 testing loss 1.8923099040985107 and training loss 1.9961870908737183\n",
            "Epoch: 3 starting with accuracy 0.3371875 testing loss 1.7683594226837158 and training loss 1.8445837497711182\n",
            "Epoch: 4 starting with accuracy 0.335625 testing loss 1.7869606018066406 and training loss 1.7613961696624756\n",
            "Epoch: 5 starting with accuracy 0.3503125 testing loss 1.680873155593872 and training loss 1.7023965120315552\n",
            "Epoch: 6 starting with accuracy 0.3490625 testing loss 1.649543046951294 and training loss 1.6617296934127808\n",
            "Epoch: 7 starting with accuracy 0.3884375 testing loss 1.6461913585662842 and training loss 1.6143815517425537\n",
            "Epoch: 8 starting with accuracy 0.4259375 testing loss 1.566123366355896 and training loss 1.5838531255722046\n",
            "Epoch: 9 starting with accuracy 0.4065625 testing loss 1.6012574434280396 and training loss 1.5595682859420776\n",
            "Epoch: 10 starting with accuracy 0.45125 testing loss 1.528212547302246 and training loss 1.5085448026657104\n",
            "Epoch: 11 starting with accuracy 0.4465625 testing loss 1.524939775466919 and training loss 1.5023443698883057\n",
            "Epoch: 12 starting with accuracy 0.468125 testing loss 1.530251145362854 and training loss 1.4461894035339355\n",
            "Epoch: 13 starting with accuracy 0.46875 testing loss 1.4616024494171143 and training loss 1.4267562627792358\n",
            "Epoch: 14 starting with accuracy 0.475625 testing loss 1.4243865013122559 and training loss 1.3990002870559692\n",
            "[0, 1, 2, 3, 4, 5, 6, 7, 8, 9, 10, 11, 12, 13, 14, 15]\n",
            "[<tf.Tensor: shape=(), dtype=float32, numpy=2.3075094>, <tf.Tensor: shape=(), dtype=float32, numpy=2.1803367>, <tf.Tensor: shape=(), dtype=float32, numpy=1.9961871>, <tf.Tensor: shape=(), dtype=float32, numpy=1.8445837>, <tf.Tensor: shape=(), dtype=float32, numpy=1.7613962>, <tf.Tensor: shape=(), dtype=float32, numpy=1.7023965>, <tf.Tensor: shape=(), dtype=float32, numpy=1.6617297>, <tf.Tensor: shape=(), dtype=float32, numpy=1.6143816>, <tf.Tensor: shape=(), dtype=float32, numpy=1.5838531>, <tf.Tensor: shape=(), dtype=float32, numpy=1.5595683>, <tf.Tensor: shape=(), dtype=float32, numpy=1.5085448>, <tf.Tensor: shape=(), dtype=float32, numpy=1.5023444>, <tf.Tensor: shape=(), dtype=float32, numpy=1.4461894>, <tf.Tensor: shape=(), dtype=float32, numpy=1.4267563>, <tf.Tensor: shape=(), dtype=float32, numpy=1.3990003>, <tf.Tensor: shape=(), dtype=float32, numpy=1.3613111>]\n"
          ]
        },
        {
          "output_type": "display_data",
          "data": {
            "text/plain": [
              "<Figure size 432x288 with 1 Axes>"
            ],
            "image/png": "[encoded data removed]"
          },
          "metadata": {
            "needs_background": "light"
          }
        }
      ]
    },
    {
      "cell_type": "code",
      "source": [
        "training_loop(model = BasicConv(), \n",
        "              data = (preprocessing(train_ds), preprocessing(test_ds)),\n",
        "              optimizer = tf.keras.optimizers.SGD(),\n",
        "              n_epochs = 15, \n",
        "              loss_function = tf.keras.losses.CategoricalCrossentropy())"
      ],
      "metadata": {
        "colab": {
          "base_uri": "https://localhost:8080/",
          "height": 580
        },
        "id": "jTFCfkp8Oyks",
        "outputId": "fd743ee1-942f-40ea-8648-c23c06b5751e"
      },
      "execution_count": 65,
      "outputs": [
        {
          "output_type": "stream",
          "name": "stdout",
          "text": [
            "Epoch: 0 starting with accuracy 0.09375 testing loss 2.3011138439178467 and training loss 2.301170587539673\n",
            "Epoch: 1 starting with accuracy 0.14375 testing loss 2.2941036224365234 and training loss 2.2983694076538086\n",
            "Epoch: 2 starting with accuracy 0.15 testing loss 2.2834670543670654 and training loss 2.289398431777954\n",
            "Epoch: 3 starting with accuracy 0.1709375 testing loss 2.264920473098755 and training loss 2.2774147987365723\n",
            "Epoch: 4 starting with accuracy 0.1734375 testing loss 2.236978054046631 and training loss 2.2570886611938477\n",
            "Epoch: 5 starting with accuracy 0.1878125 testing loss 2.1976306438446045 and training loss 2.2218685150146484\n",
            "Epoch: 6 starting with accuracy 0.2009375 testing loss 2.149747133255005 and training loss 2.183000326156616\n",
            "Epoch: 7 starting with accuracy 0.225 testing loss 2.1052651405334473 and training loss 2.143336296081543\n",
            "Epoch: 8 starting with accuracy 0.2128125 testing loss 2.0786521434783936 and training loss 2.105879783630371\n",
            "Epoch: 9 starting with accuracy 0.211875 testing loss 2.084887742996216 and training loss 2.083285331726074\n",
            "Epoch: 10 starting with accuracy 0.2265625 testing loss 2.060452461242676 and training loss 2.07026743888855\n",
            "Epoch: 11 starting with accuracy 0.2265625 testing loss 2.055027484893799 and training loss 2.0580646991729736\n",
            "Epoch: 12 starting with accuracy 0.231875 testing loss 2.0438687801361084 and training loss 2.046334743499756\n",
            "Epoch: 13 starting with accuracy 0.2371875 testing loss 2.0241429805755615 and training loss 2.0441701412200928\n",
            "Epoch: 14 starting with accuracy 0.2178125 testing loss 2.0503580570220947 and training loss 2.0299272537231445\n",
            "[0, 1, 2, 3, 4, 5, 6, 7, 8, 9, 10, 11, 12, 13, 14, 15]\n",
            "[<tf.Tensor: shape=(), dtype=float32, numpy=2.3011706>, <tf.Tensor: shape=(), dtype=float32, numpy=2.2983694>, <tf.Tensor: shape=(), dtype=float32, numpy=2.2893984>, <tf.Tensor: shape=(), dtype=float32, numpy=2.2774148>, <tf.Tensor: shape=(), dtype=float32, numpy=2.2570887>, <tf.Tensor: shape=(), dtype=float32, numpy=2.2218685>, <tf.Tensor: shape=(), dtype=float32, numpy=2.1830003>, <tf.Tensor: shape=(), dtype=float32, numpy=2.1433363>, <tf.Tensor: shape=(), dtype=float32, numpy=2.1058798>, <tf.Tensor: shape=(), dtype=float32, numpy=2.0832853>, <tf.Tensor: shape=(), dtype=float32, numpy=2.0702674>, <tf.Tensor: shape=(), dtype=float32, numpy=2.0580647>, <tf.Tensor: shape=(), dtype=float32, numpy=2.0463347>, <tf.Tensor: shape=(), dtype=float32, numpy=2.0441701>, <tf.Tensor: shape=(), dtype=float32, numpy=2.0299273>, <tf.Tensor: shape=(), dtype=float32, numpy=2.0276694>]\n"
          ]
        },
        {
          "output_type": "display_data",
          "data": {
            "text/plain": [
              "<Figure size 432x288 with 1 Axes>"
            ],
            "image/png": "[encoded data removed]"
          },
          "metadata": {
            "needs_background": "light"
          }
        }
      ]
    },
    {
      "cell_type": "code",
      "source": [
        "# for this and the next training_run the architecture was: 2 conv layers with 34 filters, one max pooling layer, 2 convlayers with 64 filters, max pooling layer, 128 neuron relu layer, 10 softmax output\n",
        "training_loop(model = BasicConv(),\n",
        "              data = (preprocessing(train_ds), preprocessing(test_ds)),\n",
        "              optimizer = tf.keras.optimizers.SGD(),\n",
        "              n_epochs = 15, \n",
        "              loss_function = tf.keras.losses.CategoricalCrossentropy())"
      ],
      "metadata": {
        "id": "I7FPXCWMZEpI",
        "colab": {
          "base_uri": "https://localhost:8080/"
        },
        "outputId": "d86f290c-e0f6-4562-eaad-6a173843bb75"
      },
      "execution_count": 35,
      "outputs": [
        {
          "output_type": "stream",
          "name": "stdout",
          "text": [
            "Epoch: 0 starting with accuracy 0.0896875 testing loss 2.3092799186706543 and training loss 2.308549404144287\n",
            "Epoch: 1 starting with accuracy 0.18875 testing loss 2.269923210144043 and training loss 2.291001319885254\n",
            "Epoch: 2 starting with accuracy 0.2528125 testing loss 2.1009786128997803 and training loss 2.2073519229888916\n",
            "Epoch: 3 starting with accuracy 0.2975 testing loss 1.9681594371795654 and training loss 2.052741527557373\n",
            "Epoch: 4 starting with accuracy 0.341875 testing loss 1.8691580295562744 and training loss 1.9570589065551758\n",
            "Epoch: 5 starting with accuracy 0.3615625 testing loss 1.7924903631210327 and training loss 1.8659424781799316\n",
            "Epoch: 6 starting with accuracy 0.3425 testing loss 1.8088080883026123 and training loss 1.8007527589797974\n",
            "Epoch: 7 starting with accuracy 0.395 testing loss 1.710801124572754 and training loss 1.75274658203125\n",
            "Epoch: 8 starting with accuracy 0.411875 testing loss 1.6553139686584473 and training loss 1.697991967201233\n",
            "Epoch: 9 starting with accuracy 0.4225 testing loss 1.6327919960021973 and training loss 1.6479960680007935\n",
            "Epoch: 10 starting with accuracy 0.4396875 testing loss 1.5733163356781006 and training loss 1.5921461582183838\n",
            "Epoch: 11 starting with accuracy 0.439375 testing loss 1.584626317024231 and training loss 1.5640758275985718\n",
            "Epoch: 12 starting with accuracy 0.4209375 testing loss 1.6364076137542725 and training loss 1.4908159971237183\n",
            "Epoch: 13 starting with accuracy 0.4296875 testing loss 1.5935544967651367 and training loss 1.450455665588379\n",
            "Epoch: 14 starting with accuracy 0.4465625 testing loss 1.5448558330535889 and training loss 1.396745204925537\n"
          ]
        }
      ]
    },
    {
      "cell_type": "code",
      "source": [
        "training_loop(model = BasicConv(),\n",
        "              data = (preprocessing(train_ds), preprocessing(test_ds)),\n",
        "              optimizer = tf.keras.optimizers.Adam(),\n",
        "              n_epochs = 15, \n",
        "              loss_function = tf.keras.losses.CategoricalCrossentropy())"
      ],
      "metadata": {
        "colab": {
          "base_uri": "https://localhost:8080/"
        },
        "id": "XKiSfBEVnsx4",
        "outputId": "aa0ff302-97a6-4607-8f7d-3e606df37f4b"
      },
      "execution_count": 36,
      "outputs": [
        {
          "output_type": "stream",
          "name": "stdout",
          "text": [
            "Epoch: 0 starting with accuracy 0.1221875 testing loss 2.3024628162384033 and training loss 2.302476406097412\n",
            "Epoch: 1 starting with accuracy 0.39 testing loss 1.7382137775421143 and training loss 1.9974027872085571\n",
            "Epoch: 2 starting with accuracy 0.443125 testing loss 1.5363638401031494 and training loss 1.6434614658355713\n",
            "Epoch: 3 starting with accuracy 0.4721875 testing loss 1.4789260625839233 and training loss 1.4487196207046509\n",
            "Epoch: 4 starting with accuracy 0.48625 testing loss 1.4128421545028687 and training loss 1.258634090423584\n",
            "Epoch: 5 starting with accuracy 0.499375 testing loss 1.3986057043075562 and training loss 1.1011145114898682\n",
            "Epoch: 6 starting with accuracy 0.5303125 testing loss 1.3530876636505127 and training loss 0.9317463040351868\n",
            "Epoch: 7 starting with accuracy 0.539375 testing loss 1.4304912090301514 and training loss 0.7225415110588074\n",
            "Epoch: 8 starting with accuracy 0.5359375 testing loss 1.4988495111465454 and training loss 0.5535156726837158\n",
            "Epoch: 9 starting with accuracy 0.531875 testing loss 1.6276767253875732 and training loss 0.4053369462490082\n",
            "Epoch: 10 starting with accuracy 0.5159375 testing loss 1.9139066934585571 and training loss 0.2809727191925049\n",
            "Epoch: 11 starting with accuracy 0.5328125 testing loss 1.9010244607925415 and training loss 0.21403728425502777\n",
            "Epoch: 12 starting with accuracy 0.5296875 testing loss 2.246389389038086 and training loss 0.15353643894195557\n",
            "Epoch: 13 starting with accuracy 0.5290625 testing loss 2.3600893020629883 and training loss 0.13551943004131317\n",
            "Epoch: 14 starting with accuracy 0.533125 testing loss 2.640038251876831 and training loss 0.11093902587890625\n"
          ]
        }
      ]
    }
  ],
  "metadata": {
    "colab": {
      "provenance": []
    },
    "kernelspec": {
      "display_name": "Python 3",
      "name": "python3"
    },
    "language_info": {
      "name": "python"
    }
  },
  "nbformat": 4,
  "nbformat_minor": 0
}